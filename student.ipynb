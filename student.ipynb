{
 "cells": [
  {
   "cell_type": "markdown",
   "metadata": {},
   "source": [
    "## Final Project Submission\n",
    "\n",
    "Please fill out:\n",
    "* Student name: Deanna Gould\n",
    "* Student pace: flex\n",
    "* Scheduled project review date/time:  Dec 23 10:00 AM PST\n",
    "* Instructor name: Joe Comeaux\n",
    "* Blog post URL:\n"
   ]
  },
  {
   "cell_type": "code",
   "execution_count": 1,
   "metadata": {},
   "outputs": [
    {
     "data": {
      "text/plain": [
       "\"\\npresentation: \\n\\nmost will come from coefficients\\nfitted line for visualization\\nhaving residuals isn't required in presentation and might be too technical\\n\\nExplain R-squared: how much our model explains changes in the price\\n\\nR-squared would be how much an increase of one bedroom adds to the price of the house\\n\\n\""
      ]
     },
     "execution_count": 1,
     "metadata": {},
     "output_type": "execute_result"
    }
   ],
   "source": [
    "'''\n",
    "presentation: \n",
    "\n",
    "most will come from coefficients\n",
    "fitted line for visualization\n",
    "having residuals isn't required in presentation and might be too technical\n",
    "\n",
    "Explain R-squared: how much our model explains changes in the price\n",
    "\n",
    "R-squared would be how much an increase of one bedroom adds to the price of the house\n",
    "\n",
    "'''"
   ]
  },
  {
   "cell_type": "code",
   "execution_count": 2,
   "metadata": {},
   "outputs": [],
   "source": [
    "# Importing necessary libraries\n",
    "\n",
    "import pandas as pd\n",
    "import matplotlib.pyplot as plt\n",
    "import statsmodels.api as sm\n",
    "import seaborn as sns\n",
    "import scipy.stats as stats\n",
    "from sklearn.preprocessing import LabelEncoder"
   ]
  },
  {
   "cell_type": "code",
   "execution_count": 3,
   "metadata": {},
   "outputs": [],
   "source": [
    "# Creating the DataFrame for the KC Housing Data\n",
    "\n",
    "df = pd.read_csv('data/kc_house_data.csv', index_col=0)"
   ]
  },
  {
   "cell_type": "code",
   "execution_count": 4,
   "metadata": {},
   "outputs": [
    {
     "data": {
      "text/html": [
       "<div>\n",
       "<style scoped>\n",
       "    .dataframe tbody tr th:only-of-type {\n",
       "        vertical-align: middle;\n",
       "    }\n",
       "\n",
       "    .dataframe tbody tr th {\n",
       "        vertical-align: top;\n",
       "    }\n",
       "\n",
       "    .dataframe thead th {\n",
       "        text-align: right;\n",
       "    }\n",
       "</style>\n",
       "<table border=\"1\" class=\"dataframe\">\n",
       "  <thead>\n",
       "    <tr style=\"text-align: right;\">\n",
       "      <th></th>\n",
       "      <th>date</th>\n",
       "      <th>price</th>\n",
       "      <th>bedrooms</th>\n",
       "      <th>bathrooms</th>\n",
       "      <th>sqft_living</th>\n",
       "      <th>sqft_lot</th>\n",
       "      <th>floors</th>\n",
       "      <th>waterfront</th>\n",
       "      <th>greenbelt</th>\n",
       "      <th>nuisance</th>\n",
       "      <th>...</th>\n",
       "      <th>sewer_system</th>\n",
       "      <th>sqft_above</th>\n",
       "      <th>sqft_basement</th>\n",
       "      <th>sqft_garage</th>\n",
       "      <th>sqft_patio</th>\n",
       "      <th>yr_built</th>\n",
       "      <th>yr_renovated</th>\n",
       "      <th>address</th>\n",
       "      <th>lat</th>\n",
       "      <th>long</th>\n",
       "    </tr>\n",
       "    <tr>\n",
       "      <th>id</th>\n",
       "      <th></th>\n",
       "      <th></th>\n",
       "      <th></th>\n",
       "      <th></th>\n",
       "      <th></th>\n",
       "      <th></th>\n",
       "      <th></th>\n",
       "      <th></th>\n",
       "      <th></th>\n",
       "      <th></th>\n",
       "      <th></th>\n",
       "      <th></th>\n",
       "      <th></th>\n",
       "      <th></th>\n",
       "      <th></th>\n",
       "      <th></th>\n",
       "      <th></th>\n",
       "      <th></th>\n",
       "      <th></th>\n",
       "      <th></th>\n",
       "      <th></th>\n",
       "    </tr>\n",
       "  </thead>\n",
       "  <tbody>\n",
       "    <tr>\n",
       "      <th>7399300360</th>\n",
       "      <td>5/24/2022</td>\n",
       "      <td>675000.0</td>\n",
       "      <td>4</td>\n",
       "      <td>1.0</td>\n",
       "      <td>1180</td>\n",
       "      <td>7140</td>\n",
       "      <td>1.0</td>\n",
       "      <td>NO</td>\n",
       "      <td>NO</td>\n",
       "      <td>NO</td>\n",
       "      <td>...</td>\n",
       "      <td>PUBLIC</td>\n",
       "      <td>1180</td>\n",
       "      <td>0</td>\n",
       "      <td>0</td>\n",
       "      <td>40</td>\n",
       "      <td>1969</td>\n",
       "      <td>0</td>\n",
       "      <td>2102 Southeast 21st Court, Renton, Washington ...</td>\n",
       "      <td>47.461975</td>\n",
       "      <td>-122.19052</td>\n",
       "    </tr>\n",
       "    <tr>\n",
       "      <th>8910500230</th>\n",
       "      <td>12/13/2021</td>\n",
       "      <td>920000.0</td>\n",
       "      <td>5</td>\n",
       "      <td>2.5</td>\n",
       "      <td>2770</td>\n",
       "      <td>6703</td>\n",
       "      <td>1.0</td>\n",
       "      <td>NO</td>\n",
       "      <td>NO</td>\n",
       "      <td>YES</td>\n",
       "      <td>...</td>\n",
       "      <td>PUBLIC</td>\n",
       "      <td>1570</td>\n",
       "      <td>1570</td>\n",
       "      <td>0</td>\n",
       "      <td>240</td>\n",
       "      <td>1950</td>\n",
       "      <td>0</td>\n",
       "      <td>11231 Greenwood Avenue North, Seattle, Washing...</td>\n",
       "      <td>47.711525</td>\n",
       "      <td>-122.35591</td>\n",
       "    </tr>\n",
       "    <tr>\n",
       "      <th>1180000275</th>\n",
       "      <td>9/29/2021</td>\n",
       "      <td>311000.0</td>\n",
       "      <td>6</td>\n",
       "      <td>2.0</td>\n",
       "      <td>2880</td>\n",
       "      <td>6156</td>\n",
       "      <td>1.0</td>\n",
       "      <td>NO</td>\n",
       "      <td>NO</td>\n",
       "      <td>NO</td>\n",
       "      <td>...</td>\n",
       "      <td>PUBLIC</td>\n",
       "      <td>1580</td>\n",
       "      <td>1580</td>\n",
       "      <td>0</td>\n",
       "      <td>0</td>\n",
       "      <td>1956</td>\n",
       "      <td>0</td>\n",
       "      <td>8504 South 113th Street, Seattle, Washington 9...</td>\n",
       "      <td>47.502045</td>\n",
       "      <td>-122.22520</td>\n",
       "    </tr>\n",
       "    <tr>\n",
       "      <th>1604601802</th>\n",
       "      <td>12/14/2021</td>\n",
       "      <td>775000.0</td>\n",
       "      <td>3</td>\n",
       "      <td>3.0</td>\n",
       "      <td>2160</td>\n",
       "      <td>1400</td>\n",
       "      <td>2.0</td>\n",
       "      <td>NO</td>\n",
       "      <td>NO</td>\n",
       "      <td>NO</td>\n",
       "      <td>...</td>\n",
       "      <td>PUBLIC</td>\n",
       "      <td>1090</td>\n",
       "      <td>1070</td>\n",
       "      <td>200</td>\n",
       "      <td>270</td>\n",
       "      <td>2010</td>\n",
       "      <td>0</td>\n",
       "      <td>4079 Letitia Avenue South, Seattle, Washington...</td>\n",
       "      <td>47.566110</td>\n",
       "      <td>-122.29020</td>\n",
       "    </tr>\n",
       "    <tr>\n",
       "      <th>8562780790</th>\n",
       "      <td>8/24/2021</td>\n",
       "      <td>592500.0</td>\n",
       "      <td>2</td>\n",
       "      <td>2.0</td>\n",
       "      <td>1120</td>\n",
       "      <td>758</td>\n",
       "      <td>2.0</td>\n",
       "      <td>NO</td>\n",
       "      <td>NO</td>\n",
       "      <td>YES</td>\n",
       "      <td>...</td>\n",
       "      <td>PUBLIC</td>\n",
       "      <td>1120</td>\n",
       "      <td>550</td>\n",
       "      <td>550</td>\n",
       "      <td>30</td>\n",
       "      <td>2012</td>\n",
       "      <td>0</td>\n",
       "      <td>2193 Northwest Talus Drive, Issaquah, Washingt...</td>\n",
       "      <td>47.532470</td>\n",
       "      <td>-122.07188</td>\n",
       "    </tr>\n",
       "  </tbody>\n",
       "</table>\n",
       "<p>5 rows × 24 columns</p>\n",
       "</div>"
      ],
      "text/plain": [
       "                  date     price  bedrooms  bathrooms  sqft_living  sqft_lot  \\\n",
       "id                                                                             \n",
       "7399300360   5/24/2022  675000.0         4        1.0         1180      7140   \n",
       "8910500230  12/13/2021  920000.0         5        2.5         2770      6703   \n",
       "1180000275   9/29/2021  311000.0         6        2.0         2880      6156   \n",
       "1604601802  12/14/2021  775000.0         3        3.0         2160      1400   \n",
       "8562780790   8/24/2021  592500.0         2        2.0         1120       758   \n",
       "\n",
       "            floors waterfront greenbelt nuisance  ... sewer_system sqft_above  \\\n",
       "id                                                ...                           \n",
       "7399300360     1.0         NO        NO       NO  ...       PUBLIC       1180   \n",
       "8910500230     1.0         NO        NO      YES  ...       PUBLIC       1570   \n",
       "1180000275     1.0         NO        NO       NO  ...       PUBLIC       1580   \n",
       "1604601802     2.0         NO        NO       NO  ...       PUBLIC       1090   \n",
       "8562780790     2.0         NO        NO      YES  ...       PUBLIC       1120   \n",
       "\n",
       "           sqft_basement sqft_garage sqft_patio  yr_built  yr_renovated  \\\n",
       "id                                                                        \n",
       "7399300360             0           0         40      1969             0   \n",
       "8910500230          1570           0        240      1950             0   \n",
       "1180000275          1580           0          0      1956             0   \n",
       "1604601802          1070         200        270      2010             0   \n",
       "8562780790           550         550         30      2012             0   \n",
       "\n",
       "                                                      address        lat  \\\n",
       "id                                                                         \n",
       "7399300360  2102 Southeast 21st Court, Renton, Washington ...  47.461975   \n",
       "8910500230  11231 Greenwood Avenue North, Seattle, Washing...  47.711525   \n",
       "1180000275  8504 South 113th Street, Seattle, Washington 9...  47.502045   \n",
       "1604601802  4079 Letitia Avenue South, Seattle, Washington...  47.566110   \n",
       "8562780790  2193 Northwest Talus Drive, Issaquah, Washingt...  47.532470   \n",
       "\n",
       "                 long  \n",
       "id                     \n",
       "7399300360 -122.19052  \n",
       "8910500230 -122.35591  \n",
       "1180000275 -122.22520  \n",
       "1604601802 -122.29020  \n",
       "8562780790 -122.07188  \n",
       "\n",
       "[5 rows x 24 columns]"
      ]
     },
     "execution_count": 4,
     "metadata": {},
     "output_type": "execute_result"
    }
   ],
   "source": [
    "# Looking at what the first few rows and columns of the housing data looks like\n",
    "\n",
    "df.head()"
   ]
  },
  {
   "cell_type": "code",
   "execution_count": 5,
   "metadata": {},
   "outputs": [
    {
     "data": {
      "text/plain": [
       "(30155, 24)"
      ]
     },
     "execution_count": 5,
     "metadata": {},
     "output_type": "execute_result"
    }
   ],
   "source": [
    "# Checking the size of the DataFrame\n",
    "\n",
    "df.shape"
   ]
  },
  {
   "cell_type": "code",
   "execution_count": 6,
   "metadata": {},
   "outputs": [
    {
     "name": "stdout",
     "output_type": "stream",
     "text": [
      "<class 'pandas.core.frame.DataFrame'>\n",
      "Int64Index: 30155 entries, 7399300360 to 9557800100\n",
      "Data columns (total 24 columns):\n",
      " #   Column         Non-Null Count  Dtype  \n",
      "---  ------         --------------  -----  \n",
      " 0   date           30155 non-null  object \n",
      " 1   price          30155 non-null  float64\n",
      " 2   bedrooms       30155 non-null  int64  \n",
      " 3   bathrooms      30155 non-null  float64\n",
      " 4   sqft_living    30155 non-null  int64  \n",
      " 5   sqft_lot       30155 non-null  int64  \n",
      " 6   floors         30155 non-null  float64\n",
      " 7   waterfront     30155 non-null  object \n",
      " 8   greenbelt      30155 non-null  object \n",
      " 9   nuisance       30155 non-null  object \n",
      " 10  view           30155 non-null  object \n",
      " 11  condition      30155 non-null  object \n",
      " 12  grade          30155 non-null  object \n",
      " 13  heat_source    30123 non-null  object \n",
      " 14  sewer_system   30141 non-null  object \n",
      " 15  sqft_above     30155 non-null  int64  \n",
      " 16  sqft_basement  30155 non-null  int64  \n",
      " 17  sqft_garage    30155 non-null  int64  \n",
      " 18  sqft_patio     30155 non-null  int64  \n",
      " 19  yr_built       30155 non-null  int64  \n",
      " 20  yr_renovated   30155 non-null  int64  \n",
      " 21  address        30155 non-null  object \n",
      " 22  lat            30155 non-null  float64\n",
      " 23  long           30155 non-null  float64\n",
      "dtypes: float64(5), int64(9), object(10)\n",
      "memory usage: 5.8+ MB\n"
     ]
    }
   ],
   "source": [
    "# Checking the datatypes in the DataFrame\n",
    "\n",
    "df.info()"
   ]
  },
  {
   "cell_type": "code",
   "execution_count": 9,
   "metadata": {},
   "outputs": [
    {
     "data": {
      "text/plain": [
       "date             False\n",
       "price            False\n",
       "bedrooms         False\n",
       "bathrooms        False\n",
       "sqft_living      False\n",
       "sqft_lot         False\n",
       "floors           False\n",
       "waterfront       False\n",
       "greenbelt        False\n",
       "nuisance         False\n",
       "view             False\n",
       "condition        False\n",
       "grade            False\n",
       "heat_source       True\n",
       "sewer_system      True\n",
       "sqft_above       False\n",
       "sqft_basement    False\n",
       "sqft_garage      False\n",
       "sqft_patio       False\n",
       "yr_built         False\n",
       "yr_renovated     False\n",
       "address          False\n",
       "lat              False\n",
       "long             False\n",
       "dtype: bool"
      ]
     },
     "execution_count": 9,
     "metadata": {},
     "output_type": "execute_result"
    }
   ],
   "source": [
    "# Checking which columns may contain null values\n",
    "\n",
    "df.isna().any()"
   ]
  },
  {
   "cell_type": "markdown",
   "metadata": {},
   "source": [
    "The heat_source and sewer_system columns have some null values, but I'm not sure how necessary that will be in my analysis."
   ]
  },
  {
   "cell_type": "code",
   "execution_count": 10,
   "metadata": {},
   "outputs": [
    {
     "data": {
      "text/plain": [
       "date              0\n",
       "price             0\n",
       "bedrooms          0\n",
       "bathrooms         0\n",
       "sqft_living       0\n",
       "sqft_lot          0\n",
       "floors            0\n",
       "waterfront        0\n",
       "greenbelt         0\n",
       "nuisance          0\n",
       "view              0\n",
       "condition         0\n",
       "grade             0\n",
       "heat_source      32\n",
       "sewer_system     14\n",
       "sqft_above        0\n",
       "sqft_basement     0\n",
       "sqft_garage       0\n",
       "sqft_patio        0\n",
       "yr_built          0\n",
       "yr_renovated      0\n",
       "address           0\n",
       "lat               0\n",
       "long              0\n",
       "dtype: int64"
      ]
     },
     "execution_count": 10,
     "metadata": {},
     "output_type": "execute_result"
    }
   ],
   "source": [
    "# Getting a sum of the null values in each column\n",
    "\n",
    "df.isna().sum()"
   ]
  },
  {
   "cell_type": "code",
   "execution_count": 11,
   "metadata": {},
   "outputs": [],
   "source": [
    "# Creating a copy of the DataFrame so I can compare to the original df I imported without restarting the notebook\n",
    "\n",
    "kc = df.copy()"
   ]
  },
  {
   "cell_type": "code",
   "execution_count": 12,
   "metadata": {},
   "outputs": [
    {
     "name": "stdout",
     "output_type": "stream",
     "text": [
      "<class 'pandas.core.frame.DataFrame'>\n",
      "Int64Index: 30155 entries, 7399300360 to 9557800100\n",
      "Data columns (total 24 columns):\n",
      " #   Column         Non-Null Count  Dtype  \n",
      "---  ------         --------------  -----  \n",
      " 0   date           30155 non-null  object \n",
      " 1   price          30155 non-null  float64\n",
      " 2   bedrooms       30155 non-null  int64  \n",
      " 3   bathrooms      30155 non-null  float64\n",
      " 4   sqft_living    30155 non-null  int64  \n",
      " 5   sqft_lot       30155 non-null  int64  \n",
      " 6   floors         30155 non-null  float64\n",
      " 7   waterfront     30155 non-null  object \n",
      " 8   greenbelt      30155 non-null  object \n",
      " 9   nuisance       30155 non-null  object \n",
      " 10  view           30155 non-null  object \n",
      " 11  condition      30155 non-null  object \n",
      " 12  grade          30155 non-null  object \n",
      " 13  heat_source    30123 non-null  object \n",
      " 14  sewer_system   30141 non-null  object \n",
      " 15  sqft_above     30155 non-null  int64  \n",
      " 16  sqft_basement  30155 non-null  int64  \n",
      " 17  sqft_garage    30155 non-null  int64  \n",
      " 18  sqft_patio     30155 non-null  int64  \n",
      " 19  yr_built       30155 non-null  int64  \n",
      " 20  yr_renovated   30155 non-null  int64  \n",
      " 21  address        30155 non-null  object \n",
      " 22  lat            30155 non-null  float64\n",
      " 23  long           30155 non-null  float64\n",
      "dtypes: float64(5), int64(9), object(10)\n",
      "memory usage: 5.8+ MB\n"
     ]
    }
   ],
   "source": [
    "kc.info()"
   ]
  },
  {
   "cell_type": "markdown",
   "metadata": {},
   "source": [
    "### Some Data Exploration"
   ]
  },
  {
   "cell_type": "markdown",
   "metadata": {},
   "source": [
    "**Checking Distribution of Dataframe**"
   ]
  },
  {
   "cell_type": "code",
   "execution_count": 13,
   "metadata": {},
   "outputs": [
    {
     "data": {
      "text/plain": [
       "<seaborn.axisgrid.FacetGrid at 0x7fa489d2dc40>"
      ]
     },
     "execution_count": 13,
     "metadata": {},
     "output_type": "execute_result"
    },
    {
     "data": {
      "image/png": "[encoded data removed]",
      "text/plain": [
       "<Figure size 500x500 with 1 Axes>"
      ]
     },
     "metadata": {},
     "output_type": "display_data"
    }
   ],
   "source": [
    "sns.displot(kc['price'], stat=\"density\", kde=True)"
   ]
  },
  {
   "cell_type": "markdown",
   "metadata": {},
   "source": [
    "It's clear that the distribution plot for price has a heavy right skew, so I'm going to use the 1.5 IQR rule to remove outliers."
   ]
  },
  {
   "cell_type": "code",
   "execution_count": 14,
   "metadata": {},
   "outputs": [
    {
     "data": {
      "text/plain": [
       "\"\\nThere's a really heavy skew but before I removed outliers, my R-squared was 0.371 and when I remove outliers it \\nactually goes down\\n\""
      ]
     },
     "execution_count": 14,
     "metadata": {},
     "output_type": "execute_result"
    }
   ],
   "source": [
    "'''\n",
    "There's a really heavy skew but before I removed outliers, my R-squared was 0.371 and when I remove outliers it \n",
    "actually goes down\n",
    "'''"
   ]
  },
  {
   "cell_type": "code",
   "execution_count": 15,
   "metadata": {},
   "outputs": [
    {
     "name": "stdout",
     "output_type": "stream",
     "text": [
      "652000.0\n"
     ]
    }
   ],
   "source": [
    "# Creating variables for q1 and q3 and creating a variable for IQR\n",
    "\n",
    "q1 = kc['price'].quantile(0.25)\n",
    "q3 = kc['price'].quantile(0.75)\n",
    "IQR = q3-q1\n",
    "print(IQR)"
   ]
  },
  {
   "cell_type": "code",
   "execution_count": 16,
   "metadata": {},
   "outputs": [
    {
     "name": "stdout",
     "output_type": "stream",
     "text": [
      "2278000.0\n",
      "-330000.0\n"
     ]
    }
   ],
   "source": [
    "# Creating variables for upper bound and lower bound, which will be the parameters for what I end up excluding\n",
    "\n",
    "upper_bound = q3 + (1.5 * IQR)\n",
    "lower_bound = q1 - (1.5 * IQR)\n",
    "\n",
    "print(upper_bound)\n",
    "print(lower_bound)"
   ]
  },
  {
   "cell_type": "code",
   "execution_count": 17,
   "metadata": {},
   "outputs": [],
   "source": [
    "kc['price'] = kc.loc[kc['price'] < upper_bound, 'price']\n",
    "kc['price'] = kc.loc[kc['price'] > lower_bound, 'price']"
   ]
  },
  {
   "cell_type": "code",
   "execution_count": 18,
   "metadata": {},
   "outputs": [
    {
     "data": {
      "text/plain": [
       "<seaborn.axisgrid.FacetGrid at 0x7fa4721defd0>"
      ]
     },
     "execution_count": 18,
     "metadata": {},
     "output_type": "execute_result"
    },
    {
     "data": {
      "image/png": "[encoded data removed]",
      "text/plain": [
       "<Figure size 500x500 with 1 Axes>"
      ]
     },
     "metadata": {},
     "output_type": "display_data"
    }
   ],
   "source": [
    "sns.displot(kc['price'], stat=\"density\", kde=True)"
   ]
  },
  {
   "cell_type": "code",
   "execution_count": 19,
   "metadata": {},
   "outputs": [
    {
     "data": {
      "text/plain": [
       "'\\nThis still has a skew but not as much - do I need to do anything about it?\\n'"
      ]
     },
     "execution_count": 19,
     "metadata": {},
     "output_type": "execute_result"
    }
   ],
   "source": [
    "'''\n",
    "This still has a skew but not as much - do I need to do anything about it?\n",
    "'''"
   ]
  },
  {
   "cell_type": "code",
   "execution_count": 20,
   "metadata": {},
   "outputs": [
    {
     "data": {
      "text/plain": [
       "(30155, 24)"
      ]
     },
     "execution_count": 20,
     "metadata": {},
     "output_type": "execute_result"
    }
   ],
   "source": [
    "kc.shape"
   ]
  },
  {
   "cell_type": "code",
   "execution_count": 21,
   "metadata": {},
   "outputs": [
    {
     "data": {
      "text/plain": [
       "date                0\n",
       "price            1994\n",
       "bedrooms            0\n",
       "bathrooms           0\n",
       "sqft_living         0\n",
       "sqft_lot            0\n",
       "floors              0\n",
       "waterfront          0\n",
       "greenbelt           0\n",
       "nuisance            0\n",
       "view                0\n",
       "condition           0\n",
       "grade               0\n",
       "heat_source        32\n",
       "sewer_system       14\n",
       "sqft_above          0\n",
       "sqft_basement       0\n",
       "sqft_garage         0\n",
       "sqft_patio          0\n",
       "yr_built            0\n",
       "yr_renovated        0\n",
       "address             0\n",
       "lat                 0\n",
       "long                0\n",
       "dtype: int64"
      ]
     },
     "execution_count": 21,
     "metadata": {},
     "output_type": "execute_result"
    }
   ],
   "source": [
    "kc.isna().sum()"
   ]
  },
  {
   "cell_type": "code",
   "execution_count": 22,
   "metadata": {},
   "outputs": [],
   "source": [
    "kc.dropna(inplace=True)"
   ]
  },
  {
   "cell_type": "code",
   "execution_count": 23,
   "metadata": {},
   "outputs": [
    {
     "data": {
      "text/plain": [
       "date             False\n",
       "price            False\n",
       "bedrooms         False\n",
       "bathrooms        False\n",
       "sqft_living      False\n",
       "sqft_lot         False\n",
       "floors           False\n",
       "waterfront       False\n",
       "greenbelt        False\n",
       "nuisance         False\n",
       "view             False\n",
       "condition        False\n",
       "grade            False\n",
       "heat_source      False\n",
       "sewer_system     False\n",
       "sqft_above       False\n",
       "sqft_basement    False\n",
       "sqft_garage      False\n",
       "sqft_patio       False\n",
       "yr_built         False\n",
       "yr_renovated     False\n",
       "address          False\n",
       "lat              False\n",
       "long             False\n",
       "dtype: bool"
      ]
     },
     "execution_count": 23,
     "metadata": {},
     "output_type": "execute_result"
    }
   ],
   "source": [
    "kc.isna().any()"
   ]
  },
  {
   "cell_type": "code",
   "execution_count": 25,
   "metadata": {},
   "outputs": [],
   "source": [
    "## what is test train split? I saw a video using this. should i use it here?"
   ]
  },
  {
   "cell_type": "code",
   "execution_count": 26,
   "metadata": {},
   "outputs": [],
   "source": [
    "X_ind = kc.loc[:, kc.columns != 'price']"
   ]
  },
  {
   "cell_type": "code",
   "execution_count": 32,
   "metadata": {},
   "outputs": [],
   "source": [
    "## why didn't I get just the price column when I ran this?\n",
    "\n",
    "y_dep = kc.iloc[1]"
   ]
  },
  {
   "cell_type": "code",
   "execution_count": 34,
   "metadata": {},
   "outputs": [
    {
     "data": {
      "text/html": [
       "<div>\n",
       "<style scoped>\n",
       "    .dataframe tbody tr th:only-of-type {\n",
       "        vertical-align: middle;\n",
       "    }\n",
       "\n",
       "    .dataframe tbody tr th {\n",
       "        vertical-align: top;\n",
       "    }\n",
       "\n",
       "    .dataframe thead th {\n",
       "        text-align: right;\n",
       "    }\n",
       "</style>\n",
       "<table border=\"1\" class=\"dataframe\">\n",
       "  <thead>\n",
       "    <tr style=\"text-align: right;\">\n",
       "      <th></th>\n",
       "      <th>bedrooms</th>\n",
       "      <th>bathrooms</th>\n",
       "      <th>sqft_living</th>\n",
       "      <th>sqft_lot</th>\n",
       "      <th>floors</th>\n",
       "      <th>sqft_above</th>\n",
       "      <th>sqft_basement</th>\n",
       "      <th>sqft_garage</th>\n",
       "      <th>sqft_patio</th>\n",
       "      <th>yr_built</th>\n",
       "      <th>yr_renovated</th>\n",
       "      <th>lat</th>\n",
       "      <th>long</th>\n",
       "    </tr>\n",
       "  </thead>\n",
       "  <tbody>\n",
       "    <tr>\n",
       "      <th>bedrooms</th>\n",
       "      <td>1.000000</td>\n",
       "      <td>0.557618</td>\n",
       "      <td>0.645403</td>\n",
       "      <td>0.002335</td>\n",
       "      <td>0.116793</td>\n",
       "      <td>0.529318</td>\n",
       "      <td>0.215977</td>\n",
       "      <td>0.295623</td>\n",
       "      <td>0.137793</td>\n",
       "      <td>0.126421</td>\n",
       "      <td>0.000561</td>\n",
       "      <td>0.107142</td>\n",
       "      <td>-0.109424</td>\n",
       "    </tr>\n",
       "    <tr>\n",
       "      <th>bathrooms</th>\n",
       "      <td>0.557618</td>\n",
       "      <td>1.000000</td>\n",
       "      <td>0.722441</td>\n",
       "      <td>0.022277</td>\n",
       "      <td>0.396196</td>\n",
       "      <td>0.601982</td>\n",
       "      <td>0.206635</td>\n",
       "      <td>0.421672</td>\n",
       "      <td>0.264457</td>\n",
       "      <td>0.458517</td>\n",
       "      <td>0.020221</td>\n",
       "      <td>-0.024517</td>\n",
       "      <td>0.029681</td>\n",
       "    </tr>\n",
       "    <tr>\n",
       "      <th>sqft_living</th>\n",
       "      <td>0.645403</td>\n",
       "      <td>0.722441</td>\n",
       "      <td>1.000000</td>\n",
       "      <td>0.115618</td>\n",
       "      <td>0.284965</td>\n",
       "      <td>0.855908</td>\n",
       "      <td>0.276017</td>\n",
       "      <td>0.480235</td>\n",
       "      <td>0.331537</td>\n",
       "      <td>0.294767</td>\n",
       "      <td>0.014095</td>\n",
       "      <td>0.101865</td>\n",
       "      <td>-0.095888</td>\n",
       "    </tr>\n",
       "    <tr>\n",
       "      <th>sqft_lot</th>\n",
       "      <td>0.002335</td>\n",
       "      <td>0.022277</td>\n",
       "      <td>0.115618</td>\n",
       "      <td>1.000000</td>\n",
       "      <td>-0.041789</td>\n",
       "      <td>0.124770</td>\n",
       "      <td>-0.002696</td>\n",
       "      <td>0.079095</td>\n",
       "      <td>0.158456</td>\n",
       "      <td>-0.005241</td>\n",
       "      <td>0.014152</td>\n",
       "      <td>0.031068</td>\n",
       "      <td>-0.036764</td>\n",
       "    </tr>\n",
       "    <tr>\n",
       "      <th>floors</th>\n",
       "      <td>0.116793</td>\n",
       "      <td>0.396196</td>\n",
       "      <td>0.284965</td>\n",
       "      <td>-0.041789</td>\n",
       "      <td>1.000000</td>\n",
       "      <td>0.447709</td>\n",
       "      <td>-0.285742</td>\n",
       "      <td>0.110660</td>\n",
       "      <td>0.110476</td>\n",
       "      <td>0.558364</td>\n",
       "      <td>-0.032536</td>\n",
       "      <td>-0.232737</td>\n",
       "      <td>0.244973</td>\n",
       "    </tr>\n",
       "    <tr>\n",
       "      <th>sqft_above</th>\n",
       "      <td>0.529318</td>\n",
       "      <td>0.601982</td>\n",
       "      <td>0.855908</td>\n",
       "      <td>0.124770</td>\n",
       "      <td>0.447709</td>\n",
       "      <td>1.000000</td>\n",
       "      <td>-0.174731</td>\n",
       "      <td>0.531599</td>\n",
       "      <td>0.247263</td>\n",
       "      <td>0.398431</td>\n",
       "      <td>-0.007520</td>\n",
       "      <td>0.088414</td>\n",
       "      <td>-0.088857</td>\n",
       "    </tr>\n",
       "    <tr>\n",
       "      <th>sqft_basement</th>\n",
       "      <td>0.215977</td>\n",
       "      <td>0.206635</td>\n",
       "      <td>0.276017</td>\n",
       "      <td>-0.002696</td>\n",
       "      <td>-0.285742</td>\n",
       "      <td>-0.174731</td>\n",
       "      <td>1.000000</td>\n",
       "      <td>-0.017457</td>\n",
       "      <td>0.160636</td>\n",
       "      <td>-0.261110</td>\n",
       "      <td>0.037035</td>\n",
       "      <td>0.058618</td>\n",
       "      <td>-0.043849</td>\n",
       "    </tr>\n",
       "    <tr>\n",
       "      <th>sqft_garage</th>\n",
       "      <td>0.295623</td>\n",
       "      <td>0.421672</td>\n",
       "      <td>0.480235</td>\n",
       "      <td>0.079095</td>\n",
       "      <td>0.110660</td>\n",
       "      <td>0.531599</td>\n",
       "      <td>-0.017457</td>\n",
       "      <td>1.000000</td>\n",
       "      <td>0.172350</td>\n",
       "      <td>0.439144</td>\n",
       "      <td>-0.108990</td>\n",
       "      <td>0.088129</td>\n",
       "      <td>-0.097109</td>\n",
       "    </tr>\n",
       "    <tr>\n",
       "      <th>sqft_patio</th>\n",
       "      <td>0.137793</td>\n",
       "      <td>0.264457</td>\n",
       "      <td>0.331537</td>\n",
       "      <td>0.158456</td>\n",
       "      <td>0.110476</td>\n",
       "      <td>0.247263</td>\n",
       "      <td>0.160636</td>\n",
       "      <td>0.172350</td>\n",
       "      <td>1.000000</td>\n",
       "      <td>0.123701</td>\n",
       "      <td>0.044037</td>\n",
       "      <td>-0.033257</td>\n",
       "      <td>0.035653</td>\n",
       "    </tr>\n",
       "    <tr>\n",
       "      <th>yr_built</th>\n",
       "      <td>0.126421</td>\n",
       "      <td>0.458517</td>\n",
       "      <td>0.294767</td>\n",
       "      <td>-0.005241</td>\n",
       "      <td>0.558364</td>\n",
       "      <td>0.398431</td>\n",
       "      <td>-0.261110</td>\n",
       "      <td>0.439144</td>\n",
       "      <td>0.123701</td>\n",
       "      <td>1.000000</td>\n",
       "      <td>-0.233849</td>\n",
       "      <td>-0.217982</td>\n",
       "      <td>0.217097</td>\n",
       "    </tr>\n",
       "    <tr>\n",
       "      <th>yr_renovated</th>\n",
       "      <td>0.000561</td>\n",
       "      <td>0.020221</td>\n",
       "      <td>0.014095</td>\n",
       "      <td>0.014152</td>\n",
       "      <td>-0.032536</td>\n",
       "      <td>-0.007520</td>\n",
       "      <td>0.037035</td>\n",
       "      <td>-0.108990</td>\n",
       "      <td>0.044037</td>\n",
       "      <td>-0.233849</td>\n",
       "      <td>1.000000</td>\n",
       "      <td>0.035244</td>\n",
       "      <td>-0.034292</td>\n",
       "    </tr>\n",
       "    <tr>\n",
       "      <th>lat</th>\n",
       "      <td>0.107142</td>\n",
       "      <td>-0.024517</td>\n",
       "      <td>0.101865</td>\n",
       "      <td>0.031068</td>\n",
       "      <td>-0.232737</td>\n",
       "      <td>0.088414</td>\n",
       "      <td>0.058618</td>\n",
       "      <td>0.088129</td>\n",
       "      <td>-0.033257</td>\n",
       "      <td>-0.217982</td>\n",
       "      <td>0.035244</td>\n",
       "      <td>1.000000</td>\n",
       "      <td>-0.756660</td>\n",
       "    </tr>\n",
       "    <tr>\n",
       "      <th>long</th>\n",
       "      <td>-0.109424</td>\n",
       "      <td>0.029681</td>\n",
       "      <td>-0.095888</td>\n",
       "      <td>-0.036764</td>\n",
       "      <td>0.244973</td>\n",
       "      <td>-0.088857</td>\n",
       "      <td>-0.043849</td>\n",
       "      <td>-0.097109</td>\n",
       "      <td>0.035653</td>\n",
       "      <td>0.217097</td>\n",
       "      <td>-0.034292</td>\n",
       "      <td>-0.756660</td>\n",
       "      <td>1.000000</td>\n",
       "    </tr>\n",
       "  </tbody>\n",
       "</table>\n",
       "</div>"
      ],
      "text/plain": [
       "               bedrooms  bathrooms  sqft_living  sqft_lot    floors  \\\n",
       "bedrooms       1.000000   0.557618     0.645403  0.002335  0.116793   \n",
       "bathrooms      0.557618   1.000000     0.722441  0.022277  0.396196   \n",
       "sqft_living    0.645403   0.722441     1.000000  0.115618  0.284965   \n",
       "sqft_lot       0.002335   0.022277     0.115618  1.000000 -0.041789   \n",
       "floors         0.116793   0.396196     0.284965 -0.041789  1.000000   \n",
       "sqft_above     0.529318   0.601982     0.855908  0.124770  0.447709   \n",
       "sqft_basement  0.215977   0.206635     0.276017 -0.002696 -0.285742   \n",
       "sqft_garage    0.295623   0.421672     0.480235  0.079095  0.110660   \n",
       "sqft_patio     0.137793   0.264457     0.331537  0.158456  0.110476   \n",
       "yr_built       0.126421   0.458517     0.294767 -0.005241  0.558364   \n",
       "yr_renovated   0.000561   0.020221     0.014095  0.014152 -0.032536   \n",
       "lat            0.107142  -0.024517     0.101865  0.031068 -0.232737   \n",
       "long          -0.109424   0.029681    -0.095888 -0.036764  0.244973   \n",
       "\n",
       "               sqft_above  sqft_basement  sqft_garage  sqft_patio  yr_built  \\\n",
       "bedrooms         0.529318       0.215977     0.295623    0.137793  0.126421   \n",
       "bathrooms        0.601982       0.206635     0.421672    0.264457  0.458517   \n",
       "sqft_living      0.855908       0.276017     0.480235    0.331537  0.294767   \n",
       "sqft_lot         0.124770      -0.002696     0.079095    0.158456 -0.005241   \n",
       "floors           0.447709      -0.285742     0.110660    0.110476  0.558364   \n",
       "sqft_above       1.000000      -0.174731     0.531599    0.247263  0.398431   \n",
       "sqft_basement   -0.174731       1.000000    -0.017457    0.160636 -0.261110   \n",
       "sqft_garage      0.531599      -0.017457     1.000000    0.172350  0.439144   \n",
       "sqft_patio       0.247263       0.160636     0.172350    1.000000  0.123701   \n",
       "yr_built         0.398431      -0.261110     0.439144    0.123701  1.000000   \n",
       "yr_renovated    -0.007520       0.037035    -0.108990    0.044037 -0.233849   \n",
       "lat              0.088414       0.058618     0.088129   -0.033257 -0.217982   \n",
       "long            -0.088857      -0.043849    -0.097109    0.035653  0.217097   \n",
       "\n",
       "               yr_renovated       lat      long  \n",
       "bedrooms           0.000561  0.107142 -0.109424  \n",
       "bathrooms          0.020221 -0.024517  0.029681  \n",
       "sqft_living        0.014095  0.101865 -0.095888  \n",
       "sqft_lot           0.014152  0.031068 -0.036764  \n",
       "floors            -0.032536 -0.232737  0.244973  \n",
       "sqft_above        -0.007520  0.088414 -0.088857  \n",
       "sqft_basement      0.037035  0.058618 -0.043849  \n",
       "sqft_garage       -0.108990  0.088129 -0.097109  \n",
       "sqft_patio         0.044037 -0.033257  0.035653  \n",
       "yr_built          -0.233849 -0.217982  0.217097  \n",
       "yr_renovated       1.000000  0.035244 -0.034292  \n",
       "lat                0.035244  1.000000 -0.756660  \n",
       "long              -0.034292 -0.756660  1.000000  "
      ]
     },
     "execution_count": 34,
     "metadata": {},
     "output_type": "execute_result"
    }
   ],
   "source": [
    "X_corr = X_ind.corr()\n",
    "X_corr"
   ]
  },
  {
   "cell_type": "code",
   "execution_count": 36,
   "metadata": {},
   "outputs": [
    {
     "data": {
      "text/html": [
       "<div>\n",
       "<style scoped>\n",
       "    .dataframe tbody tr th:only-of-type {\n",
       "        vertical-align: middle;\n",
       "    }\n",
       "\n",
       "    .dataframe tbody tr th {\n",
       "        vertical-align: top;\n",
       "    }\n",
       "\n",
       "    .dataframe thead th {\n",
       "        text-align: right;\n",
       "    }\n",
       "</style>\n",
       "<table border=\"1\" class=\"dataframe\">\n",
       "  <thead>\n",
       "    <tr style=\"text-align: right;\">\n",
       "      <th></th>\n",
       "      <th>bedrooms</th>\n",
       "      <th>bathrooms</th>\n",
       "      <th>sqft_living</th>\n",
       "      <th>sqft_lot</th>\n",
       "      <th>floors</th>\n",
       "      <th>sqft_above</th>\n",
       "      <th>sqft_basement</th>\n",
       "      <th>sqft_garage</th>\n",
       "      <th>sqft_patio</th>\n",
       "      <th>yr_built</th>\n",
       "      <th>yr_renovated</th>\n",
       "      <th>lat</th>\n",
       "      <th>long</th>\n",
       "    </tr>\n",
       "  </thead>\n",
       "  <tbody>\n",
       "    <tr>\n",
       "      <th>bedrooms</th>\n",
       "      <td>True</td>\n",
       "      <td>True</td>\n",
       "      <td>True</td>\n",
       "      <td>False</td>\n",
       "      <td>False</td>\n",
       "      <td>True</td>\n",
       "      <td>False</td>\n",
       "      <td>False</td>\n",
       "      <td>False</td>\n",
       "      <td>False</td>\n",
       "      <td>False</td>\n",
       "      <td>False</td>\n",
       "      <td>False</td>\n",
       "    </tr>\n",
       "    <tr>\n",
       "      <th>bathrooms</th>\n",
       "      <td>True</td>\n",
       "      <td>True</td>\n",
       "      <td>True</td>\n",
       "      <td>False</td>\n",
       "      <td>False</td>\n",
       "      <td>True</td>\n",
       "      <td>False</td>\n",
       "      <td>False</td>\n",
       "      <td>False</td>\n",
       "      <td>False</td>\n",
       "      <td>False</td>\n",
       "      <td>False</td>\n",
       "      <td>False</td>\n",
       "    </tr>\n",
       "    <tr>\n",
       "      <th>sqft_living</th>\n",
       "      <td>True</td>\n",
       "      <td>True</td>\n",
       "      <td>True</td>\n",
       "      <td>False</td>\n",
       "      <td>False</td>\n",
       "      <td>True</td>\n",
       "      <td>False</td>\n",
       "      <td>False</td>\n",
       "      <td>False</td>\n",
       "      <td>False</td>\n",
       "      <td>False</td>\n",
       "      <td>False</td>\n",
       "      <td>False</td>\n",
       "    </tr>\n",
       "    <tr>\n",
       "      <th>sqft_lot</th>\n",
       "      <td>False</td>\n",
       "      <td>False</td>\n",
       "      <td>False</td>\n",
       "      <td>True</td>\n",
       "      <td>False</td>\n",
       "      <td>False</td>\n",
       "      <td>False</td>\n",
       "      <td>False</td>\n",
       "      <td>False</td>\n",
       "      <td>False</td>\n",
       "      <td>False</td>\n",
       "      <td>False</td>\n",
       "      <td>False</td>\n",
       "    </tr>\n",
       "    <tr>\n",
       "      <th>floors</th>\n",
       "      <td>False</td>\n",
       "      <td>False</td>\n",
       "      <td>False</td>\n",
       "      <td>False</td>\n",
       "      <td>True</td>\n",
       "      <td>False</td>\n",
       "      <td>False</td>\n",
       "      <td>False</td>\n",
       "      <td>False</td>\n",
       "      <td>True</td>\n",
       "      <td>False</td>\n",
       "      <td>False</td>\n",
       "      <td>False</td>\n",
       "    </tr>\n",
       "    <tr>\n",
       "      <th>sqft_above</th>\n",
       "      <td>True</td>\n",
       "      <td>True</td>\n",
       "      <td>True</td>\n",
       "      <td>False</td>\n",
       "      <td>False</td>\n",
       "      <td>True</td>\n",
       "      <td>False</td>\n",
       "      <td>True</td>\n",
       "      <td>False</td>\n",
       "      <td>False</td>\n",
       "      <td>False</td>\n",
       "      <td>False</td>\n",
       "      <td>False</td>\n",
       "    </tr>\n",
       "    <tr>\n",
       "      <th>sqft_basement</th>\n",
       "      <td>False</td>\n",
       "      <td>False</td>\n",
       "      <td>False</td>\n",
       "      <td>False</td>\n",
       "      <td>False</td>\n",
       "      <td>False</td>\n",
       "      <td>True</td>\n",
       "      <td>False</td>\n",
       "      <td>False</td>\n",
       "      <td>False</td>\n",
       "      <td>False</td>\n",
       "      <td>False</td>\n",
       "      <td>False</td>\n",
       "    </tr>\n",
       "    <tr>\n",
       "      <th>sqft_garage</th>\n",
       "      <td>False</td>\n",
       "      <td>False</td>\n",
       "      <td>False</td>\n",
       "      <td>False</td>\n",
       "      <td>False</td>\n",
       "      <td>True</td>\n",
       "      <td>False</td>\n",
       "      <td>True</td>\n",
       "      <td>False</td>\n",
       "      <td>False</td>\n",
       "      <td>False</td>\n",
       "      <td>False</td>\n",
       "      <td>False</td>\n",
       "    </tr>\n",
       "    <tr>\n",
       "      <th>sqft_patio</th>\n",
       "      <td>False</td>\n",
       "      <td>False</td>\n",
       "      <td>False</td>\n",
       "      <td>False</td>\n",
       "      <td>False</td>\n",
       "      <td>False</td>\n",
       "      <td>False</td>\n",
       "      <td>False</td>\n",
       "      <td>True</td>\n",
       "      <td>False</td>\n",
       "      <td>False</td>\n",
       "      <td>False</td>\n",
       "      <td>False</td>\n",
       "    </tr>\n",
       "    <tr>\n",
       "      <th>yr_built</th>\n",
       "      <td>False</td>\n",
       "      <td>False</td>\n",
       "      <td>False</td>\n",
       "      <td>False</td>\n",
       "      <td>True</td>\n",
       "      <td>False</td>\n",
       "      <td>False</td>\n",
       "      <td>False</td>\n",
       "      <td>False</td>\n",
       "      <td>True</td>\n",
       "      <td>False</td>\n",
       "      <td>False</td>\n",
       "      <td>False</td>\n",
       "    </tr>\n",
       "    <tr>\n",
       "      <th>yr_renovated</th>\n",
       "      <td>False</td>\n",
       "      <td>False</td>\n",
       "      <td>False</td>\n",
       "      <td>False</td>\n",
       "      <td>False</td>\n",
       "      <td>False</td>\n",
       "      <td>False</td>\n",
       "      <td>False</td>\n",
       "      <td>False</td>\n",
       "      <td>False</td>\n",
       "      <td>True</td>\n",
       "      <td>False</td>\n",
       "      <td>False</td>\n",
       "    </tr>\n",
       "    <tr>\n",
       "      <th>lat</th>\n",
       "      <td>False</td>\n",
       "      <td>False</td>\n",
       "      <td>False</td>\n",
       "      <td>False</td>\n",
       "      <td>False</td>\n",
       "      <td>False</td>\n",
       "      <td>False</td>\n",
       "      <td>False</td>\n",
       "      <td>False</td>\n",
       "      <td>False</td>\n",
       "      <td>False</td>\n",
       "      <td>True</td>\n",
       "      <td>True</td>\n",
       "    </tr>\n",
       "    <tr>\n",
       "      <th>long</th>\n",
       "      <td>False</td>\n",
       "      <td>False</td>\n",
       "      <td>False</td>\n",
       "      <td>False</td>\n",
       "      <td>False</td>\n",
       "      <td>False</td>\n",
       "      <td>False</td>\n",
       "      <td>False</td>\n",
       "      <td>False</td>\n",
       "      <td>False</td>\n",
       "      <td>False</td>\n",
       "      <td>True</td>\n",
       "      <td>True</td>\n",
       "    </tr>\n",
       "  </tbody>\n",
       "</table>\n",
       "</div>"
      ],
      "text/plain": [
       "               bedrooms  bathrooms  sqft_living  sqft_lot  floors  sqft_above  \\\n",
       "bedrooms           True       True         True     False   False        True   \n",
       "bathrooms          True       True         True     False   False        True   \n",
       "sqft_living        True       True         True     False   False        True   \n",
       "sqft_lot          False      False        False      True   False       False   \n",
       "floors            False      False        False     False    True       False   \n",
       "sqft_above         True       True         True     False   False        True   \n",
       "sqft_basement     False      False        False     False   False       False   \n",
       "sqft_garage       False      False        False     False   False        True   \n",
       "sqft_patio        False      False        False     False   False       False   \n",
       "yr_built          False      False        False     False    True       False   \n",
       "yr_renovated      False      False        False     False   False       False   \n",
       "lat               False      False        False     False   False       False   \n",
       "long              False      False        False     False   False       False   \n",
       "\n",
       "               sqft_basement  sqft_garage  sqft_patio  yr_built  yr_renovated  \\\n",
       "bedrooms               False        False       False     False         False   \n",
       "bathrooms              False        False       False     False         False   \n",
       "sqft_living            False        False       False     False         False   \n",
       "sqft_lot               False        False       False     False         False   \n",
       "floors                 False        False       False      True         False   \n",
       "sqft_above             False         True       False     False         False   \n",
       "sqft_basement           True        False       False     False         False   \n",
       "sqft_garage            False         True       False     False         False   \n",
       "sqft_patio             False        False        True     False         False   \n",
       "yr_built               False        False       False      True         False   \n",
       "yr_renovated           False        False       False     False          True   \n",
       "lat                    False        False       False     False         False   \n",
       "long                   False        False       False     False         False   \n",
       "\n",
       "                 lat   long  \n",
       "bedrooms       False  False  \n",
       "bathrooms      False  False  \n",
       "sqft_living    False  False  \n",
       "sqft_lot       False  False  \n",
       "floors         False  False  \n",
       "sqft_above     False  False  \n",
       "sqft_basement  False  False  \n",
       "sqft_garage    False  False  \n",
       "sqft_patio     False  False  \n",
       "yr_built       False  False  \n",
       "yr_renovated   False  False  \n",
       "lat             True   True  \n",
       "long            True   True  "
      ]
     },
     "execution_count": 36,
     "metadata": {},
     "output_type": "execute_result"
    }
   ],
   "source": [
    "abs(X_corr) > 0.5"
   ]
  },
  {
   "cell_type": "markdown",
   "metadata": {},
   "source": [
    "I'll ignore latitude and longitude in this, but now I can easily tell which columns have a positive correlation higher than 0.5"
   ]
  },
  {
   "cell_type": "code",
   "execution_count": null,
   "metadata": {},
   "outputs": [],
   "source": []
  },
  {
   "cell_type": "code",
   "execution_count": 37,
   "metadata": {},
   "outputs": [
    {
     "data": {
      "text/plain": [
       "<AxesSubplot:>"
      ]
     },
     "execution_count": 37,
     "metadata": {},
     "output_type": "execute_result"
    },
    {
     "data": {
      "image/png": "[encoded data removed]",
      "text/plain": [
       "<Figure size 640x480 with 2 Axes>"
      ]
     },
     "metadata": {},
     "output_type": "display_data"
    }
   ],
   "source": [
    "sns.heatmap(X_corr)"
   ]
  },
  {
   "cell_type": "code",
   "execution_count": 42,
   "metadata": {},
   "outputs": [],
   "source": [
    "# below probably isn't necessary\n",
    "\n",
    "def correlation(kc, threshold):\n",
    "    #calling set instead of list or table to get only unique values\n",
    "    correlated_cols = set()\n",
    "    corr_matrix = kc.corr()\n",
    "    for i in range(len(corr_matrix.columns)):\n",
    "        for j in range (i):\n",
    "            if abs(corr_matrix.iloc[i, j]) > threshold:\n",
    "                colname = corr_matrix.columns[i]\n",
    "                correlated_cols.add(colname)\n",
    "    return correlated_cols"
   ]
  },
  {
   "cell_type": "code",
   "execution_count": 46,
   "metadata": {},
   "outputs": [
    {
     "data": {
      "text/plain": [
       "{'sqft_above'}"
      ]
     },
     "execution_count": 46,
     "metadata": {},
     "output_type": "execute_result"
    }
   ],
   "source": [
    "correlation(X_ind, 0.8)"
   ]
  },
  {
   "cell_type": "code",
   "execution_count": null,
   "metadata": {},
   "outputs": [],
   "source": []
  },
  {
   "cell_type": "code",
   "execution_count": 60,
   "metadata": {},
   "outputs": [],
   "source": [
    "## Here, the threshold says that if two variables have 70% correlation, we want to choose one variable an discard the other"
   ]
  },
  {
   "cell_type": "code",
   "execution_count": 61,
   "metadata": {},
   "outputs": [
    {
     "data": {
      "text/plain": [
       "\"\\nMorgan said I could try 'feature engineering' and put lat and long into a scatter plot to find the wealthier areas,\\nbut how would I include that in my model? That seems more like data analysis, and I thought we didn't want to see \\nthat in this project?\\n\\ncan also use color parameter/heat map\\n\\n2d scatter plot that has 3d color scale(cmap is color scheme and c is color dimension)\\n\""
      ]
     },
     "execution_count": 61,
     "metadata": {},
     "output_type": "execute_result"
    }
   ],
   "source": [
    "'''\n",
    "Morgan said I could try 'feature engineering' and put lat and long into a scatter plot to find the wealthier areas,\n",
    "but how would I include that in my model? That seems more like data analysis, and I thought we didn't want to see \n",
    "that in this project?\n",
    "\n",
    "can also use color parameter/heat map\n",
    "\n",
    "2d scatter plot that has 3d color scale(cmap is color scheme and c is color dimension)\n",
    "'''"
   ]
  },
  {
   "cell_type": "code",
   "execution_count": 62,
   "metadata": {},
   "outputs": [],
   "source": [
    "## pair plot and heat map is helpful"
   ]
  },
  {
   "cell_type": "code",
   "execution_count": 63,
   "metadata": {},
   "outputs": [
    {
     "data": {
      "text/plain": [
       "price            1.000000\n",
       "bedrooms         0.316282\n",
       "bathrooms        0.433880\n",
       "sqft_living      0.564844\n",
       "sqft_lot         0.077405\n",
       "floors           0.195117\n",
       "sqft_above       0.479194\n",
       "sqft_basement    0.205531\n",
       "sqft_garage      0.238316\n",
       "sqft_patio       0.245878\n",
       "yr_built         0.075614\n",
       "yr_renovated     0.055710\n",
       "lat              0.086350\n",
       "long            -0.030871\n",
       "Name: price, dtype: float64"
      ]
     },
     "execution_count": 63,
     "metadata": {},
     "output_type": "execute_result"
    }
   ],
   "source": [
    "# First, finding the most highly correlated columns to price\n",
    "\n",
    "kc.corr()[\"price\"]"
   ]
  },
  {
   "cell_type": "markdown",
   "metadata": {},
   "source": [
    " Now that I know the correlations to price of numerical features, below I'll be doing some data exploration, finding columns that will be useful for the model, and dropping columns that won't be."
   ]
  },
  {
   "cell_type": "code",
   "execution_count": 64,
   "metadata": {},
   "outputs": [
    {
     "data": {
      "text/html": [
       "<div>\n",
       "<style scoped>\n",
       "    .dataframe tbody tr th:only-of-type {\n",
       "        vertical-align: middle;\n",
       "    }\n",
       "\n",
       "    .dataframe tbody tr th {\n",
       "        vertical-align: top;\n",
       "    }\n",
       "\n",
       "    .dataframe thead th {\n",
       "        text-align: right;\n",
       "    }\n",
       "</style>\n",
       "<table border=\"1\" class=\"dataframe\">\n",
       "  <thead>\n",
       "    <tr style=\"text-align: right;\">\n",
       "      <th></th>\n",
       "      <th>date</th>\n",
       "      <th>price</th>\n",
       "      <th>bedrooms</th>\n",
       "      <th>bathrooms</th>\n",
       "      <th>sqft_living</th>\n",
       "      <th>sqft_lot</th>\n",
       "      <th>floors</th>\n",
       "      <th>waterfront</th>\n",
       "      <th>greenbelt</th>\n",
       "      <th>nuisance</th>\n",
       "      <th>...</th>\n",
       "      <th>sewer_system</th>\n",
       "      <th>sqft_above</th>\n",
       "      <th>sqft_basement</th>\n",
       "      <th>sqft_garage</th>\n",
       "      <th>sqft_patio</th>\n",
       "      <th>yr_built</th>\n",
       "      <th>yr_renovated</th>\n",
       "      <th>address</th>\n",
       "      <th>lat</th>\n",
       "      <th>long</th>\n",
       "    </tr>\n",
       "    <tr>\n",
       "      <th>id</th>\n",
       "      <th></th>\n",
       "      <th></th>\n",
       "      <th></th>\n",
       "      <th></th>\n",
       "      <th></th>\n",
       "      <th></th>\n",
       "      <th></th>\n",
       "      <th></th>\n",
       "      <th></th>\n",
       "      <th></th>\n",
       "      <th></th>\n",
       "      <th></th>\n",
       "      <th></th>\n",
       "      <th></th>\n",
       "      <th></th>\n",
       "      <th></th>\n",
       "      <th></th>\n",
       "      <th></th>\n",
       "      <th></th>\n",
       "      <th></th>\n",
       "      <th></th>\n",
       "    </tr>\n",
       "  </thead>\n",
       "  <tbody>\n",
       "    <tr>\n",
       "      <th>7399300360</th>\n",
       "      <td>5/24/2022</td>\n",
       "      <td>675000.0</td>\n",
       "      <td>4</td>\n",
       "      <td>1.0</td>\n",
       "      <td>1180</td>\n",
       "      <td>7140</td>\n",
       "      <td>1.0</td>\n",
       "      <td>NO</td>\n",
       "      <td>NO</td>\n",
       "      <td>NO</td>\n",
       "      <td>...</td>\n",
       "      <td>PUBLIC</td>\n",
       "      <td>1180</td>\n",
       "      <td>0</td>\n",
       "      <td>0</td>\n",
       "      <td>40</td>\n",
       "      <td>1969</td>\n",
       "      <td>0</td>\n",
       "      <td>2102 Southeast 21st Court, Renton, Washington ...</td>\n",
       "      <td>47.461975</td>\n",
       "      <td>-122.19052</td>\n",
       "    </tr>\n",
       "    <tr>\n",
       "      <th>8910500230</th>\n",
       "      <td>12/13/2021</td>\n",
       "      <td>920000.0</td>\n",
       "      <td>5</td>\n",
       "      <td>2.5</td>\n",
       "      <td>2770</td>\n",
       "      <td>6703</td>\n",
       "      <td>1.0</td>\n",
       "      <td>NO</td>\n",
       "      <td>NO</td>\n",
       "      <td>YES</td>\n",
       "      <td>...</td>\n",
       "      <td>PUBLIC</td>\n",
       "      <td>1570</td>\n",
       "      <td>1570</td>\n",
       "      <td>0</td>\n",
       "      <td>240</td>\n",
       "      <td>1950</td>\n",
       "      <td>0</td>\n",
       "      <td>11231 Greenwood Avenue North, Seattle, Washing...</td>\n",
       "      <td>47.711525</td>\n",
       "      <td>-122.35591</td>\n",
       "    </tr>\n",
       "    <tr>\n",
       "      <th>1180000275</th>\n",
       "      <td>9/29/2021</td>\n",
       "      <td>311000.0</td>\n",
       "      <td>6</td>\n",
       "      <td>2.0</td>\n",
       "      <td>2880</td>\n",
       "      <td>6156</td>\n",
       "      <td>1.0</td>\n",
       "      <td>NO</td>\n",
       "      <td>NO</td>\n",
       "      <td>NO</td>\n",
       "      <td>...</td>\n",
       "      <td>PUBLIC</td>\n",
       "      <td>1580</td>\n",
       "      <td>1580</td>\n",
       "      <td>0</td>\n",
       "      <td>0</td>\n",
       "      <td>1956</td>\n",
       "      <td>0</td>\n",
       "      <td>8504 South 113th Street, Seattle, Washington 9...</td>\n",
       "      <td>47.502045</td>\n",
       "      <td>-122.22520</td>\n",
       "    </tr>\n",
       "    <tr>\n",
       "      <th>1604601802</th>\n",
       "      <td>12/14/2021</td>\n",
       "      <td>775000.0</td>\n",
       "      <td>3</td>\n",
       "      <td>3.0</td>\n",
       "      <td>2160</td>\n",
       "      <td>1400</td>\n",
       "      <td>2.0</td>\n",
       "      <td>NO</td>\n",
       "      <td>NO</td>\n",
       "      <td>NO</td>\n",
       "      <td>...</td>\n",
       "      <td>PUBLIC</td>\n",
       "      <td>1090</td>\n",
       "      <td>1070</td>\n",
       "      <td>200</td>\n",
       "      <td>270</td>\n",
       "      <td>2010</td>\n",
       "      <td>0</td>\n",
       "      <td>4079 Letitia Avenue South, Seattle, Washington...</td>\n",
       "      <td>47.566110</td>\n",
       "      <td>-122.29020</td>\n",
       "    </tr>\n",
       "    <tr>\n",
       "      <th>8562780790</th>\n",
       "      <td>8/24/2021</td>\n",
       "      <td>592500.0</td>\n",
       "      <td>2</td>\n",
       "      <td>2.0</td>\n",
       "      <td>1120</td>\n",
       "      <td>758</td>\n",
       "      <td>2.0</td>\n",
       "      <td>NO</td>\n",
       "      <td>NO</td>\n",
       "      <td>YES</td>\n",
       "      <td>...</td>\n",
       "      <td>PUBLIC</td>\n",
       "      <td>1120</td>\n",
       "      <td>550</td>\n",
       "      <td>550</td>\n",
       "      <td>30</td>\n",
       "      <td>2012</td>\n",
       "      <td>0</td>\n",
       "      <td>2193 Northwest Talus Drive, Issaquah, Washingt...</td>\n",
       "      <td>47.532470</td>\n",
       "      <td>-122.07188</td>\n",
       "    </tr>\n",
       "  </tbody>\n",
       "</table>\n",
       "<p>5 rows × 24 columns</p>\n",
       "</div>"
      ],
      "text/plain": [
       "                  date     price  bedrooms  bathrooms  sqft_living  sqft_lot  \\\n",
       "id                                                                             \n",
       "7399300360   5/24/2022  675000.0         4        1.0         1180      7140   \n",
       "8910500230  12/13/2021  920000.0         5        2.5         2770      6703   \n",
       "1180000275   9/29/2021  311000.0         6        2.0         2880      6156   \n",
       "1604601802  12/14/2021  775000.0         3        3.0         2160      1400   \n",
       "8562780790   8/24/2021  592500.0         2        2.0         1120       758   \n",
       "\n",
       "            floors waterfront greenbelt nuisance  ... sewer_system sqft_above  \\\n",
       "id                                                ...                           \n",
       "7399300360     1.0         NO        NO       NO  ...       PUBLIC       1180   \n",
       "8910500230     1.0         NO        NO      YES  ...       PUBLIC       1570   \n",
       "1180000275     1.0         NO        NO       NO  ...       PUBLIC       1580   \n",
       "1604601802     2.0         NO        NO       NO  ...       PUBLIC       1090   \n",
       "8562780790     2.0         NO        NO      YES  ...       PUBLIC       1120   \n",
       "\n",
       "           sqft_basement sqft_garage sqft_patio  yr_built  yr_renovated  \\\n",
       "id                                                                        \n",
       "7399300360             0           0         40      1969             0   \n",
       "8910500230          1570           0        240      1950             0   \n",
       "1180000275          1580           0          0      1956             0   \n",
       "1604601802          1070         200        270      2010             0   \n",
       "8562780790           550         550         30      2012             0   \n",
       "\n",
       "                                                      address        lat  \\\n",
       "id                                                                         \n",
       "7399300360  2102 Southeast 21st Court, Renton, Washington ...  47.461975   \n",
       "8910500230  11231 Greenwood Avenue North, Seattle, Washing...  47.711525   \n",
       "1180000275  8504 South 113th Street, Seattle, Washington 9...  47.502045   \n",
       "1604601802  4079 Letitia Avenue South, Seattle, Washington...  47.566110   \n",
       "8562780790  2193 Northwest Talus Drive, Issaquah, Washingt...  47.532470   \n",
       "\n",
       "                 long  \n",
       "id                     \n",
       "7399300360 -122.19052  \n",
       "8910500230 -122.35591  \n",
       "1180000275 -122.22520  \n",
       "1604601802 -122.29020  \n",
       "8562780790 -122.07188  \n",
       "\n",
       "[5 rows x 24 columns]"
      ]
     },
     "execution_count": 64,
     "metadata": {},
     "output_type": "execute_result"
    }
   ],
   "source": [
    "kc.head()"
   ]
  },
  {
   "cell_type": "code",
   "execution_count": 65,
   "metadata": {},
   "outputs": [],
   "source": [
    "# Creating a new variable which copies the predictors from the kc dataframe\n",
    "\n",
    "data_pred = kc.iloc[:, 3:25]"
   ]
  },
  {
   "cell_type": "code",
   "execution_count": 66,
   "metadata": {},
   "outputs": [],
   "source": [
    "# Looking at the dataframe to see what columns are in it and if I got all of them\n",
    "\n",
    "#data_pred.head()"
   ]
  },
  {
   "cell_type": "markdown",
   "metadata": {},
   "source": [
    "**Checking for Multicollinearity**"
   ]
  },
  {
   "cell_type": "code",
   "execution_count": 68,
   "metadata": {},
   "outputs": [],
   "source": [
    "# Utilzing .stack to get returned a list that will return multicollinear relationships\n",
    "\n",
    "df2=data_pred.corr().abs().stack().reset_index().sort_values(0, ascending=False)\n",
    "\n",
    "# zip the variable name columns\n",
    "df2['pairs'] = list(zip(df2.level_0, df2.level_1))\n",
    "\n",
    "# set index to new pairs column\n",
    "df2.set_index(['pairs'], inplace = True)\n",
    "\n",
    "#drop level columns that were created originally by default\n",
    "df2.drop(columns=['level_1', 'level_0'], inplace = True)\n",
    "\n",
    "# rename correlation column\n",
    "df2.columns = ['cc']\n",
    "\n",
    "# drop duplicates in case any were created in this process\n",
    "df2.drop_duplicates(inplace=True)"
   ]
  },
  {
   "cell_type": "code",
   "execution_count": 69,
   "metadata": {},
   "outputs": [
    {
     "data": {
      "text/html": [
       "<div>\n",
       "<style scoped>\n",
       "    .dataframe tbody tr th:only-of-type {\n",
       "        vertical-align: middle;\n",
       "    }\n",
       "\n",
       "    .dataframe tbody tr th {\n",
       "        vertical-align: top;\n",
       "    }\n",
       "\n",
       "    .dataframe thead th {\n",
       "        text-align: right;\n",
       "    }\n",
       "</style>\n",
       "<table border=\"1\" class=\"dataframe\">\n",
       "  <thead>\n",
       "    <tr style=\"text-align: right;\">\n",
       "      <th></th>\n",
       "      <th>cc</th>\n",
       "    </tr>\n",
       "    <tr>\n",
       "      <th>pairs</th>\n",
       "      <th></th>\n",
       "    </tr>\n",
       "  </thead>\n",
       "  <tbody>\n",
       "    <tr>\n",
       "      <th>(sqft_living, sqft_above)</th>\n",
       "      <td>0.855908</td>\n",
       "    </tr>\n",
       "    <tr>\n",
       "      <th>(long, lat)</th>\n",
       "      <td>0.756660</td>\n",
       "    </tr>\n",
       "    <tr>\n",
       "      <th>(sqft_living, bathrooms)</th>\n",
       "      <td>0.722441</td>\n",
       "    </tr>\n",
       "    <tr>\n",
       "      <th>(bathrooms, sqft_above)</th>\n",
       "      <td>0.601982</td>\n",
       "    </tr>\n",
       "    <tr>\n",
       "      <th>(floors, yr_built)</th>\n",
       "      <td>0.558364</td>\n",
       "    </tr>\n",
       "  </tbody>\n",
       "</table>\n",
       "</div>"
      ],
      "text/plain": [
       "                                 cc\n",
       "pairs                              \n",
       "(sqft_living, sqft_above)  0.855908\n",
       "(long, lat)                0.756660\n",
       "(sqft_living, bathrooms)   0.722441\n",
       "(bathrooms, sqft_above)    0.601982\n",
       "(floors, yr_built)         0.558364"
      ]
     },
     "execution_count": 69,
     "metadata": {},
     "output_type": "execute_result"
    }
   ],
   "source": [
    "# Running below code to return the pairs that have a greater correlation than .55 and less than 1\n",
    "\n",
    "df2[(df2.cc>.55) & (df2.cc <1)]"
   ]
  },
  {
   "cell_type": "markdown",
   "metadata": {},
   "source": [
    "Now that I have a better idea of which columns have multicollinear relationships, I am going to drop some of the columns like `sqft_above`, and `yr_built` from my `kc` and my `df2` dataframe. I'm going to keep `long`, `lat` and `bathrooms` columns because I am aware that they might still be columns I want to keep."
   ]
  },
  {
   "cell_type": "code",
   "execution_count": 74,
   "metadata": {},
   "outputs": [],
   "source": [
    "kc.drop(columns = ['sqft_above', 'yr_built'], inplace=True)"
   ]
  },
  {
   "cell_type": "code",
   "execution_count": 75,
   "metadata": {},
   "outputs": [
    {
     "data": {
      "text/html": [
       "<div>\n",
       "<style scoped>\n",
       "    .dataframe tbody tr th:only-of-type {\n",
       "        vertical-align: middle;\n",
       "    }\n",
       "\n",
       "    .dataframe tbody tr th {\n",
       "        vertical-align: top;\n",
       "    }\n",
       "\n",
       "    .dataframe thead th {\n",
       "        text-align: right;\n",
       "    }\n",
       "</style>\n",
       "<table border=\"1\" class=\"dataframe\">\n",
       "  <thead>\n",
       "    <tr style=\"text-align: right;\">\n",
       "      <th></th>\n",
       "      <th>date</th>\n",
       "      <th>price</th>\n",
       "      <th>bedrooms</th>\n",
       "      <th>bathrooms</th>\n",
       "      <th>sqft_living</th>\n",
       "      <th>sqft_lot</th>\n",
       "      <th>floors</th>\n",
       "      <th>waterfront</th>\n",
       "      <th>greenbelt</th>\n",
       "      <th>nuisance</th>\n",
       "      <th>...</th>\n",
       "      <th>grade</th>\n",
       "      <th>heat_source</th>\n",
       "      <th>sewer_system</th>\n",
       "      <th>sqft_basement</th>\n",
       "      <th>sqft_garage</th>\n",
       "      <th>sqft_patio</th>\n",
       "      <th>yr_renovated</th>\n",
       "      <th>address</th>\n",
       "      <th>lat</th>\n",
       "      <th>long</th>\n",
       "    </tr>\n",
       "    <tr>\n",
       "      <th>id</th>\n",
       "      <th></th>\n",
       "      <th></th>\n",
       "      <th></th>\n",
       "      <th></th>\n",
       "      <th></th>\n",
       "      <th></th>\n",
       "      <th></th>\n",
       "      <th></th>\n",
       "      <th></th>\n",
       "      <th></th>\n",
       "      <th></th>\n",
       "      <th></th>\n",
       "      <th></th>\n",
       "      <th></th>\n",
       "      <th></th>\n",
       "      <th></th>\n",
       "      <th></th>\n",
       "      <th></th>\n",
       "      <th></th>\n",
       "      <th></th>\n",
       "      <th></th>\n",
       "    </tr>\n",
       "  </thead>\n",
       "  <tbody>\n",
       "    <tr>\n",
       "      <th>7399300360</th>\n",
       "      <td>5/24/2022</td>\n",
       "      <td>675000.0</td>\n",
       "      <td>4</td>\n",
       "      <td>1.0</td>\n",
       "      <td>1180</td>\n",
       "      <td>7140</td>\n",
       "      <td>1.0</td>\n",
       "      <td>NO</td>\n",
       "      <td>NO</td>\n",
       "      <td>NO</td>\n",
       "      <td>...</td>\n",
       "      <td>7 Average</td>\n",
       "      <td>Gas</td>\n",
       "      <td>PUBLIC</td>\n",
       "      <td>0</td>\n",
       "      <td>0</td>\n",
       "      <td>40</td>\n",
       "      <td>0</td>\n",
       "      <td>2102 Southeast 21st Court, Renton, Washington ...</td>\n",
       "      <td>47.461975</td>\n",
       "      <td>-122.19052</td>\n",
       "    </tr>\n",
       "    <tr>\n",
       "      <th>8910500230</th>\n",
       "      <td>12/13/2021</td>\n",
       "      <td>920000.0</td>\n",
       "      <td>5</td>\n",
       "      <td>2.5</td>\n",
       "      <td>2770</td>\n",
       "      <td>6703</td>\n",
       "      <td>1.0</td>\n",
       "      <td>NO</td>\n",
       "      <td>NO</td>\n",
       "      <td>YES</td>\n",
       "      <td>...</td>\n",
       "      <td>7 Average</td>\n",
       "      <td>Oil</td>\n",
       "      <td>PUBLIC</td>\n",
       "      <td>1570</td>\n",
       "      <td>0</td>\n",
       "      <td>240</td>\n",
       "      <td>0</td>\n",
       "      <td>11231 Greenwood Avenue North, Seattle, Washing...</td>\n",
       "      <td>47.711525</td>\n",
       "      <td>-122.35591</td>\n",
       "    </tr>\n",
       "    <tr>\n",
       "      <th>1180000275</th>\n",
       "      <td>9/29/2021</td>\n",
       "      <td>311000.0</td>\n",
       "      <td>6</td>\n",
       "      <td>2.0</td>\n",
       "      <td>2880</td>\n",
       "      <td>6156</td>\n",
       "      <td>1.0</td>\n",
       "      <td>NO</td>\n",
       "      <td>NO</td>\n",
       "      <td>NO</td>\n",
       "      <td>...</td>\n",
       "      <td>7 Average</td>\n",
       "      <td>Gas</td>\n",
       "      <td>PUBLIC</td>\n",
       "      <td>1580</td>\n",
       "      <td>0</td>\n",
       "      <td>0</td>\n",
       "      <td>0</td>\n",
       "      <td>8504 South 113th Street, Seattle, Washington 9...</td>\n",
       "      <td>47.502045</td>\n",
       "      <td>-122.22520</td>\n",
       "    </tr>\n",
       "    <tr>\n",
       "      <th>1604601802</th>\n",
       "      <td>12/14/2021</td>\n",
       "      <td>775000.0</td>\n",
       "      <td>3</td>\n",
       "      <td>3.0</td>\n",
       "      <td>2160</td>\n",
       "      <td>1400</td>\n",
       "      <td>2.0</td>\n",
       "      <td>NO</td>\n",
       "      <td>NO</td>\n",
       "      <td>NO</td>\n",
       "      <td>...</td>\n",
       "      <td>9 Better</td>\n",
       "      <td>Gas</td>\n",
       "      <td>PUBLIC</td>\n",
       "      <td>1070</td>\n",
       "      <td>200</td>\n",
       "      <td>270</td>\n",
       "      <td>0</td>\n",
       "      <td>4079 Letitia Avenue South, Seattle, Washington...</td>\n",
       "      <td>47.566110</td>\n",
       "      <td>-122.29020</td>\n",
       "    </tr>\n",
       "    <tr>\n",
       "      <th>8562780790</th>\n",
       "      <td>8/24/2021</td>\n",
       "      <td>592500.0</td>\n",
       "      <td>2</td>\n",
       "      <td>2.0</td>\n",
       "      <td>1120</td>\n",
       "      <td>758</td>\n",
       "      <td>2.0</td>\n",
       "      <td>NO</td>\n",
       "      <td>NO</td>\n",
       "      <td>YES</td>\n",
       "      <td>...</td>\n",
       "      <td>7 Average</td>\n",
       "      <td>Electricity</td>\n",
       "      <td>PUBLIC</td>\n",
       "      <td>550</td>\n",
       "      <td>550</td>\n",
       "      <td>30</td>\n",
       "      <td>0</td>\n",
       "      <td>2193 Northwest Talus Drive, Issaquah, Washingt...</td>\n",
       "      <td>47.532470</td>\n",
       "      <td>-122.07188</td>\n",
       "    </tr>\n",
       "  </tbody>\n",
       "</table>\n",
       "<p>5 rows × 22 columns</p>\n",
       "</div>"
      ],
      "text/plain": [
       "                  date     price  bedrooms  bathrooms  sqft_living  sqft_lot  \\\n",
       "id                                                                             \n",
       "7399300360   5/24/2022  675000.0         4        1.0         1180      7140   \n",
       "8910500230  12/13/2021  920000.0         5        2.5         2770      6703   \n",
       "1180000275   9/29/2021  311000.0         6        2.0         2880      6156   \n",
       "1604601802  12/14/2021  775000.0         3        3.0         2160      1400   \n",
       "8562780790   8/24/2021  592500.0         2        2.0         1120       758   \n",
       "\n",
       "            floors waterfront greenbelt nuisance  ...      grade  heat_source  \\\n",
       "id                                                ...                           \n",
       "7399300360     1.0         NO        NO       NO  ...  7 Average          Gas   \n",
       "8910500230     1.0         NO        NO      YES  ...  7 Average          Oil   \n",
       "1180000275     1.0         NO        NO       NO  ...  7 Average          Gas   \n",
       "1604601802     2.0         NO        NO       NO  ...   9 Better          Gas   \n",
       "8562780790     2.0         NO        NO      YES  ...  7 Average  Electricity   \n",
       "\n",
       "           sewer_system sqft_basement sqft_garage  sqft_patio  yr_renovated  \\\n",
       "id                                                                            \n",
       "7399300360       PUBLIC             0           0          40             0   \n",
       "8910500230       PUBLIC          1570           0         240             0   \n",
       "1180000275       PUBLIC          1580           0           0             0   \n",
       "1604601802       PUBLIC          1070         200         270             0   \n",
       "8562780790       PUBLIC           550         550          30             0   \n",
       "\n",
       "                                                      address        lat  \\\n",
       "id                                                                         \n",
       "7399300360  2102 Southeast 21st Court, Renton, Washington ...  47.461975   \n",
       "8910500230  11231 Greenwood Avenue North, Seattle, Washing...  47.711525   \n",
       "1180000275  8504 South 113th Street, Seattle, Washington 9...  47.502045   \n",
       "1604601802  4079 Letitia Avenue South, Seattle, Washington...  47.566110   \n",
       "8562780790  2193 Northwest Talus Drive, Issaquah, Washingt...  47.532470   \n",
       "\n",
       "                 long  \n",
       "id                     \n",
       "7399300360 -122.19052  \n",
       "8910500230 -122.35591  \n",
       "1180000275 -122.22520  \n",
       "1604601802 -122.29020  \n",
       "8562780790 -122.07188  \n",
       "\n",
       "[5 rows x 22 columns]"
      ]
     },
     "execution_count": 75,
     "metadata": {},
     "output_type": "execute_result"
    }
   ],
   "source": [
    "kc.head()"
   ]
  },
  {
   "cell_type": "code",
   "execution_count": 77,
   "metadata": {},
   "outputs": [
    {
     "data": {
      "image/png": "[encoded data removed]",
      "text/plain": [
       "<Figure size 800x800 with 2 Axes>"
      ]
     },
     "metadata": {},
     "output_type": "display_data"
    }
   ],
   "source": [
    "sns.set(rc = {'figure.figsize':(8, 8)})\n",
    "sns.heatmap(kc.corr(), center=0, cmap='RdPu');"
   ]
  },
  {
   "cell_type": "code",
   "execution_count": 48,
   "metadata": {},
   "outputs": [
    {
     "data": {
      "image/png": "[encoded data removed]",
      "text/plain": [
       "<Figure size 900x900 with 2 Axes>"
      ]
     },
     "metadata": {},
     "output_type": "display_data"
    }
   ],
   "source": [
    "sns.set(rc = {'figure.figsize':(9,9)})\n",
    "sns.heatmap(kc.corr(), center=0, annot=True, cmap='Greens');"
   ]
  },
  {
   "cell_type": "code",
   "execution_count": null,
   "metadata": {},
   "outputs": [],
   "source": [
    "kc.sample(2000, random_state=1).plot.scatter(x='sqft_living', y=\"price\", figsize=(4,3), fontsize=10, color='purple')b"
   ]
  },
  {
   "cell_type": "code",
   "execution_count": 46,
   "metadata": {},
   "outputs": [
    {
     "ename": "NameError",
     "evalue": "name 'sqft_living' is not defined",
     "output_type": "error",
     "traceback": [
      "\u001b[0;31m---------------------------------------------------------------------------\u001b[0m",
      "\u001b[0;31mNameError\u001b[0m                                 Traceback (most recent call last)",
      "Cell \u001b[0;32mIn[46], line 6\u001b[0m\n\u001b[1;32m      4\u001b[0m fig, ax \u001b[38;5;241m=\u001b[39m plt\u001b[38;5;241m.\u001b[39msubplots(figsize\u001b[38;5;241m=\u001b[39m(\u001b[38;5;241m7\u001b[39m, \u001b[38;5;241m5\u001b[39m))\n\u001b[1;32m      5\u001b[0m fig\u001b[38;5;241m.\u001b[39msuptitle(\u001b[38;5;124m'\u001b[39m\u001b[38;5;124msqft_living vs. price\u001b[39m\u001b[38;5;124m'\u001b[39m, fontsize\u001b[38;5;241m=\u001b[39m\u001b[38;5;241m16\u001b[39m)\n\u001b[0;32m----> 6\u001b[0m ax\u001b[38;5;241m.\u001b[39mscatter(\u001b[43msqft_living\u001b[49m, price)\n\u001b[1;32m      7\u001b[0m ax\u001b[38;5;241m.\u001b[39mplot(sqft_living, sqft_living\u001b[38;5;241m/\u001b[39m\u001b[38;5;241m10\u001b[39m, c\u001b[38;5;241m=\u001b[39m\u001b[38;5;124m'\u001b[39m\u001b[38;5;124mblack\u001b[39m\u001b[38;5;124m'\u001b[39m)\n\u001b[1;32m      8\u001b[0m ax\u001b[38;5;241m.\u001b[39mset_xlabel(\u001b[38;5;124m'\u001b[39m\u001b[38;5;124msqft_living\u001b[39m\u001b[38;5;124m'\u001b[39m, fontsize\u001b[38;5;241m=\u001b[39m\u001b[38;5;241m14\u001b[39m)\n",
      "\u001b[0;31mNameError\u001b[0m: name 'sqft_living' is not defined"
     ]
    },
    {
     "data": {
      "image/png": "[encoded data removed]",
      "text/plain": [
       "<Figure size 700x500 with 1 Axes>"
      ]
     },
     "metadata": {},
     "output_type": "display_data"
    }
   ],
   "source": [
    "#use below for price vs sqft_living scatter plot with regression line\n",
    "\n",
    "# plot data and y = 0.1x regression line\n",
    "fig, ax = plt.subplots(figsize=(7, 5))\n",
    "fig.suptitle('sqft_living vs. price', fontsize=16)\n",
    "ax.scatter(kc['sqft_living'], price)\n",
    "ax.plot(sqft_living, sqft_living/10, c='black')\n",
    "ax.set_xlabel('sqft_living', fontsize=14)\n",
    "ax.set_ylabel('sell price', fontsize=14);"
   ]
  },
  {
   "cell_type": "code",
   "execution_count": 49,
   "metadata": {},
   "outputs": [
    {
     "data": {
      "text/plain": [
       "'#use below to plot original against price vs log transformed version\\n\\nimport numpy as np\\ncandidates = [\"LotFrontage\", \"GrLivArea\", \"YearRemodAdd\"]\\n\\nfig, axes = plt.subplots(ncols=2, nrows=len(candidates), figsize=(8,10))\\n\\nfor i, column in enumerate(candidates):\\n    left_ax = axes[i][0]\\n    left_ax.scatter(ames[column], y, alpha=0.5)\\n    left_ax.set_xlabel(column)\\n    left_ax.set_ylabel(\"SalePrice\")\\n    \\n    # Plot log transformed version\\n    right_ax = axes[i][1]\\n    right_ax.scatter(np.log(ames[column]), np.log(y), alpha=0.5)\\n    right_ax.set_xlabel(f\"log({column})\")\\n    right_ax.set_ylabel(\"log(SalePrice)\")\\n    \\nfig.suptitle(\"Raw vs. Log Transformed\")\\n\\nfig.tight_layout()\\n'"
      ]
     },
     "execution_count": 49,
     "metadata": {},
     "output_type": "execute_result"
    }
   ],
   "source": [
    "'''#use below to plot original against price vs log transformed version\n",
    "\n",
    "import numpy as np\n",
    "candidates = [\"LotFrontage\", \"GrLivArea\", \"YearRemodAdd\"]\n",
    "\n",
    "fig, axes = plt.subplots(ncols=2, nrows=len(candidates), figsize=(8,10))\n",
    "\n",
    "for i, column in enumerate(candidates):\n",
    "    left_ax = axes[i][0]\n",
    "    left_ax.scatter(ames[column], y, alpha=0.5)\n",
    "    left_ax.set_xlabel(column)\n",
    "    left_ax.set_ylabel(\"SalePrice\")\n",
    "    \n",
    "    # Plot log transformed version\n",
    "    right_ax = axes[i][1]\n",
    "    right_ax.scatter(np.log(ames[column]), np.log(y), alpha=0.5)\n",
    "    right_ax.set_xlabel(f\"log({column})\")\n",
    "    right_ax.set_ylabel(\"log(SalePrice)\")\n",
    "    \n",
    "fig.suptitle(\"Raw vs. Log Transformed\")\n",
    "\n",
    "fig.tight_layout()\n",
    "'''"
   ]
  },
  {
   "cell_type": "code",
   "execution_count": 50,
   "metadata": {},
   "outputs": [],
   "source": [
    "# Looking at categorical features and their value counts to determine which ones represent the dataset well"
   ]
  },
  {
   "cell_type": "code",
   "execution_count": 51,
   "metadata": {},
   "outputs": [
    {
     "name": "stdout",
     "output_type": "stream",
     "text": [
      "Index(['date', 'waterfront', 'greenbelt', 'nuisance', 'view', 'condition',\n",
      "       'grade', 'heat_source', 'sewer_system', 'address'],\n",
      "      dtype='object')\n"
     ]
    }
   ],
   "source": [
    "categorical_features = kc.select_dtypes(\"object\").columns\n",
    "print(categorical_features)"
   ]
  },
  {
   "cell_type": "code",
   "execution_count": 52,
   "metadata": {},
   "outputs": [
    {
     "data": {
      "text/plain": [
       "NO     27797\n",
       "YES      324\n",
       "Name: waterfront, dtype: int64"
      ]
     },
     "execution_count": 52,
     "metadata": {},
     "output_type": "execute_result"
    }
   ],
   "source": [
    "kc['waterfront'].value_counts()"
   ]
  },
  {
   "cell_type": "code",
   "execution_count": 53,
   "metadata": {},
   "outputs": [
    {
     "data": {
      "text/plain": [
       "\"\\nMy old instructor had said to not use waterfront homes etc if the majority of homes aren't represented by it,\\nshould I do that?\\n\""
      ]
     },
     "execution_count": 53,
     "metadata": {},
     "output_type": "execute_result"
    }
   ],
   "source": [
    "'''\n",
    "My old instructor had said to not use waterfront homes etc if the majority of homes aren't represented by it,\n",
    "should I do that?\n",
    "'''"
   ]
  },
  {
   "cell_type": "markdown",
   "metadata": {},
   "source": [
    "With only 1.75% of homes being Waterfront, I'm not sure that I'm going to use this in my regression model because it won't describe the change in price for a large majority of homes."
   ]
  },
  {
   "cell_type": "code",
   "execution_count": 54,
   "metadata": {},
   "outputs": [
    {
     "data": {
      "text/plain": [
       "<AxesSubplot:xlabel='waterfront'>"
      ]
     },
     "execution_count": 54,
     "metadata": {},
     "output_type": "execute_result"
    },
    {
     "data": {
      "image/png": "[encoded data removed]",
      "text/plain": [
       "<Figure size 1000x1000 with 1 Axes>"
      ]
     },
     "metadata": {},
     "output_type": "display_data"
    }
   ],
   "source": [
    "kc.groupby('waterfront').mean().plot.bar(y=\"price\")"
   ]
  },
  {
   "cell_type": "code",
   "execution_count": 55,
   "metadata": {},
   "outputs": [
    {
     "data": {
      "text/plain": [
       "Gas                  18889\n",
       "Electricity           6255\n",
       "Oil                   2822\n",
       "Gas/Solar               76\n",
       "Electricity/Solar       57\n",
       "Other                   18\n",
       "Oil/Solar                4\n",
       "Name: heat_source, dtype: int64"
      ]
     },
     "execution_count": 55,
     "metadata": {},
     "output_type": "execute_result"
    }
   ],
   "source": [
    "kc['heat_source'].value_counts()"
   ]
  },
  {
   "cell_type": "markdown",
   "metadata": {},
   "source": [
    "Most homes use gas as a heating source, followed by electricity and then oil, so that might not be a good predictor either."
   ]
  },
  {
   "cell_type": "code",
   "execution_count": 56,
   "metadata": {},
   "outputs": [
    {
     "data": {
      "text/plain": [
       "<AxesSubplot:xlabel='heat_source'>"
      ]
     },
     "execution_count": 56,
     "metadata": {},
     "output_type": "execute_result"
    },
    {
     "data": {
      "image/png": "[encoded data removed]",
      "text/plain": [
       "<Figure size 1000x1000 with 1 Axes>"
      ]
     },
     "metadata": {},
     "output_type": "display_data"
    }
   ],
   "source": [
    "kc.groupby('heat_source').mean().plot.bar(y=\"price\")"
   ]
  },
  {
   "cell_type": "markdown",
   "metadata": {},
   "source": [
    "It looks like homes that have gas/solar as a heating source have the highest sell price, but taking into account that there are only 93 homes that are gas/solar, it might not be the best feature to include."
   ]
  },
  {
   "cell_type": "code",
   "execution_count": 57,
   "metadata": {},
   "outputs": [
    {
     "data": {
      "text/plain": [
       "Average      17135\n",
       "Good          7654\n",
       "Very Good     3054\n",
       "Fair           218\n",
       "Poor            60\n",
       "Name: condition, dtype: int64"
      ]
     },
     "execution_count": 57,
     "metadata": {},
     "output_type": "execute_result"
    }
   ],
   "source": [
    "kc['condition'].value_counts()"
   ]
  },
  {
   "cell_type": "markdown",
   "metadata": {},
   "source": [
    "Above, `condition` might be a good indicator with price, but we will have to do more exploring to fnd out."
   ]
  },
  {
   "cell_type": "code",
   "execution_count": 58,
   "metadata": {},
   "outputs": [
    {
     "data": {
      "text/plain": [
       "<AxesSubplot:xlabel='condition'>"
      ]
     },
     "execution_count": 58,
     "metadata": {},
     "output_type": "execute_result"
    },
    {
     "data": {
      "image/png": "[encoded data removed]",
      "text/plain": [
       "<Figure size 1000x1000 with 1 Axes>"
      ]
     },
     "metadata": {},
     "output_type": "display_data"
    }
   ],
   "source": [
    "kc.groupby('condition').mean().plot.bar(y=\"price\")"
   ]
  },
  {
   "cell_type": "markdown",
   "metadata": {},
   "source": [
    "Based on this graph, it appears to be that the data is presenting as expected. Homes that are considered *average*, *good* or *very good* have a higher sale price than those that are in *fair* or *poor* condition. However, *very good* still doesn't appear to have a much higher sell price than *average*."
   ]
  },
  {
   "cell_type": "code",
   "execution_count": 59,
   "metadata": {},
   "outputs": [
    {
     "data": {
      "text/plain": [
       "NO     27453\n",
       "YES      668\n",
       "Name: greenbelt, dtype: int64"
      ]
     },
     "execution_count": 59,
     "metadata": {},
     "output_type": "execute_result"
    }
   ],
   "source": [
    "kc['greenbelt'].value_counts()"
   ]
  },
  {
   "cell_type": "code",
   "execution_count": 60,
   "metadata": {},
   "outputs": [
    {
     "data": {
      "text/plain": [
       "<AxesSubplot:xlabel='greenbelt'>"
      ]
     },
     "execution_count": 60,
     "metadata": {},
     "output_type": "execute_result"
    },
    {
     "data": {
      "image/png": "[encoded data removed]",
      "text/plain": [
       "<Figure size 1000x1000 with 1 Axes>"
      ]
     },
     "metadata": {},
     "output_type": "display_data"
    }
   ],
   "source": [
    "kc.groupby('greenbelt').mean().plot.bar(y=\"price\")"
   ]
  },
  {
   "cell_type": "markdown",
   "metadata": {},
   "source": [
    "A greenbelt is an area in a city where building is restricted. It might be a park or land under conservation. There aren't many homes that are near a greenbelt, so this also won't do a great job at explaining our data, but it does appear that homes which are near a greenbelt sell for at least $200,000 more. "
   ]
  },
  {
   "cell_type": "code",
   "execution_count": 61,
   "metadata": {},
   "outputs": [
    {
     "data": {
      "text/plain": [
       "NO     23251\n",
       "YES     4870\n",
       "Name: nuisance, dtype: int64"
      ]
     },
     "execution_count": 61,
     "metadata": {},
     "output_type": "execute_result"
    }
   ],
   "source": [
    "kc['nuisance'].value_counts()"
   ]
  },
  {
   "cell_type": "code",
   "execution_count": 62,
   "metadata": {},
   "outputs": [
    {
     "data": {
      "text/plain": [
       "<AxesSubplot:xlabel='nuisance'>"
      ]
     },
     "execution_count": 62,
     "metadata": {},
     "output_type": "execute_result"
    },
    {
     "data": {
      "image/png": "[encoded data removed]",
      "text/plain": [
       "<Figure size 1000x1000 with 1 Axes>"
      ]
     },
     "metadata": {},
     "output_type": "display_data"
    }
   ],
   "source": [
    "kc.groupby('nuisance').mean().plot.bar(y=\"price\")"
   ]
  },
  {
   "cell_type": "markdown",
   "metadata": {},
   "source": [
    "In the definitions, a nuisance is explained as whether or not a home has a lot of traffic noise or other nuisances that can impact someone's tranquility in their home. This would be something that you would think decreases a home's value, but based on the graph above, it doesn't appear to do so. That might be because homes which have noises from traffic also might be closer to highways or in busier, more expensive areas."
   ]
  },
  {
   "cell_type": "code",
   "execution_count": 63,
   "metadata": {},
   "outputs": [
    {
     "data": {
      "text/plain": [
       "NONE         25325\n",
       "AVERAGE       1665\n",
       "GOOD           680\n",
       "EXCELLENT      276\n",
       "FAIR           175\n",
       "Name: view, dtype: int64"
      ]
     },
     "execution_count": 63,
     "metadata": {},
     "output_type": "execute_result"
    }
   ],
   "source": [
    "kc['view'].value_counts()"
   ]
  },
  {
   "cell_type": "markdown",
   "metadata": {},
   "source": [
    "Apparently, most homes don't have a view, so it's unlikely that this will be included in the model."
   ]
  },
  {
   "cell_type": "code",
   "execution_count": 64,
   "metadata": {},
   "outputs": [
    {
     "data": {
      "text/plain": [
       "7 Average        11613\n",
       "8 Good            9164\n",
       "9 Better          3224\n",
       "6 Low Average     2822\n",
       "10 Very Good       748\n",
       "5 Fair             380\n",
       "11 Excellent       104\n",
       "4 Low               45\n",
       "12 Luxury           10\n",
       "3 Poor               9\n",
       "2 Substandard        1\n",
       "13 Mansion           1\n",
       "Name: grade, dtype: int64"
      ]
     },
     "execution_count": 64,
     "metadata": {},
     "output_type": "execute_result"
    }
   ],
   "source": [
    "kc['grade'].value_counts()"
   ]
  },
  {
   "cell_type": "code",
   "execution_count": 65,
   "metadata": {},
   "outputs": [
    {
     "data": {
      "text/plain": [
       "<AxesSubplot:xlabel='grade'>"
      ]
     },
     "execution_count": 65,
     "metadata": {},
     "output_type": "execute_result"
    },
    {
     "data": {
      "image/png": "[encoded data removed]",
      "text/plain": [
       "<Figure size 1000x1000 with 1 Axes>"
      ]
     },
     "metadata": {},
     "output_type": "display_data"
    }
   ],
   "source": [
    "kc.groupby('grade').mean().plot.bar(y=\"price\")"
   ]
  },
  {
   "cell_type": "code",
   "execution_count": 67,
   "metadata": {},
   "outputs": [
    {
     "data": {
      "text/plain": [
       "\"\\nHaving trouble understanding how I can incorporate grade/condition into the model if the model doesn't necessarily\\nknow which is better. how can I sort these manually? \\n\""
      ]
     },
     "execution_count": 67,
     "metadata": {},
     "output_type": "execute_result"
    }
   ],
   "source": [
    "'''\n",
    "Having trouble understanding how I can incorporate grade/condition into the model if the model doesn't necessarily\n",
    "know which is better. how can I sort these manually? \n",
    "'''"
   ]
  },
  {
   "cell_type": "markdown",
   "metadata": {},
   "source": [
    "This might be a good feature that helps determine what types of homes will sell for more money, and shows that it's important to have a very good home if you don't have a mansion, becuase the sell price is sill higher than *good* or *better*"
   ]
  },
  {
   "cell_type": "code",
   "execution_count": 68,
   "metadata": {},
   "outputs": [
    {
     "data": {
      "text/plain": [
       "PUBLIC                24028\n",
       "PRIVATE                4085\n",
       "PRIVATE RESTRICTED        5\n",
       "PUBLIC RESTRICTED         3\n",
       "Name: sewer_system, dtype: int64"
      ]
     },
     "execution_count": 68,
     "metadata": {},
     "output_type": "execute_result"
    }
   ],
   "source": [
    "kc['sewer_system'].value_counts()"
   ]
  },
  {
   "cell_type": "markdown",
   "metadata": {},
   "source": [
    "More exploratory analysis will need to be done to determine if private vs public sewer system makes a big difference, but based on previous knowledge I don't think it will have a big impact."
   ]
  },
  {
   "cell_type": "markdown",
   "metadata": {},
   "source": [
    "The last categorical feature in the DataFrame is address, and although areas and neighborhoods can greatly increase or decrease a house's selling price, for the sake of time I won't be looking that in my model. "
   ]
  },
  {
   "cell_type": "code",
   "execution_count": 69,
   "metadata": {},
   "outputs": [],
   "source": [
    "# Deleting some columns that I know I won't be using in my model\n",
    "\n",
    "##kc.drop(['address', 'waterfront', 'view', 'date', 'lat', 'long'], axis=1)"
   ]
  },
  {
   "cell_type": "code",
   "execution_count": 70,
   "metadata": {},
   "outputs": [
    {
     "data": {
      "text/plain": [
       "'\\nHow can I use latitude and longitude to find the more expensive areas? \\n'"
      ]
     },
     "execution_count": 70,
     "metadata": {},
     "output_type": "execute_result"
    }
   ],
   "source": [
    "'''\n",
    "How can I use latitude and longitude to find the more expensive areas? \n",
    "'''"
   ]
  },
  {
   "cell_type": "code",
   "execution_count": 71,
   "metadata": {},
   "outputs": [
    {
     "data": {
      "text/plain": [
       "3"
      ]
     },
     "execution_count": 71,
     "metadata": {},
     "output_type": "execute_result"
    }
   ],
   "source": [
    "# Checking for duplicate values and keeping first occurrences in the DataFrame\n",
    "\n",
    "kc.duplicated(keep='first').sum()"
   ]
  },
  {
   "cell_type": "code",
   "execution_count": 72,
   "metadata": {},
   "outputs": [
    {
     "data": {
      "text/plain": [
       "(28121, 19)"
      ]
     },
     "execution_count": 72,
     "metadata": {},
     "output_type": "execute_result"
    }
   ],
   "source": [
    "# Checking the new size of the DataFrame\n",
    "\n",
    "kc.shape"
   ]
  },
  {
   "cell_type": "code",
   "execution_count": 73,
   "metadata": {},
   "outputs": [
    {
     "data": {
      "text/html": [
       "<div>\n",
       "<style scoped>\n",
       "    .dataframe tbody tr th:only-of-type {\n",
       "        vertical-align: middle;\n",
       "    }\n",
       "\n",
       "    .dataframe tbody tr th {\n",
       "        vertical-align: top;\n",
       "    }\n",
       "\n",
       "    .dataframe thead th {\n",
       "        text-align: right;\n",
       "    }\n",
       "</style>\n",
       "<table border=\"1\" class=\"dataframe\">\n",
       "  <thead>\n",
       "    <tr style=\"text-align: right;\">\n",
       "      <th></th>\n",
       "      <th>price</th>\n",
       "      <th>bedrooms</th>\n",
       "      <th>bathrooms</th>\n",
       "      <th>sqft_living</th>\n",
       "      <th>floors</th>\n",
       "      <th>sqft_garage</th>\n",
       "      <th>sqft_patio</th>\n",
       "      <th>lat</th>\n",
       "      <th>long</th>\n",
       "    </tr>\n",
       "  </thead>\n",
       "  <tbody>\n",
       "    <tr>\n",
       "      <th>count</th>\n",
       "      <td>2.812100e+04</td>\n",
       "      <td>28121.000000</td>\n",
       "      <td>28121.000000</td>\n",
       "      <td>28121.000000</td>\n",
       "      <td>28121.000000</td>\n",
       "      <td>28121.000000</td>\n",
       "      <td>28121.000000</td>\n",
       "      <td>28121.000000</td>\n",
       "      <td>28121.000000</td>\n",
       "    </tr>\n",
       "    <tr>\n",
       "      <th>mean</th>\n",
       "      <td>9.420307e+05</td>\n",
       "      <td>3.359873</td>\n",
       "      <td>2.248640</td>\n",
       "      <td>1988.831585</td>\n",
       "      <td>1.523754</td>\n",
       "      <td>314.703887</td>\n",
       "      <td>202.342947</td>\n",
       "      <td>47.314627</td>\n",
       "      <td>-121.296437</td>\n",
       "    </tr>\n",
       "    <tr>\n",
       "      <th>std</th>\n",
       "      <td>4.347674e+05</td>\n",
       "      <td>0.952762</td>\n",
       "      <td>0.796831</td>\n",
       "      <td>798.991271</td>\n",
       "      <td>0.567293</td>\n",
       "      <td>272.243119</td>\n",
       "      <td>226.843948</td>\n",
       "      <td>1.455630</td>\n",
       "      <td>5.797357</td>\n",
       "    </tr>\n",
       "    <tr>\n",
       "      <th>min</th>\n",
       "      <td>2.736000e+04</td>\n",
       "      <td>0.000000</td>\n",
       "      <td>0.000000</td>\n",
       "      <td>3.000000</td>\n",
       "      <td>1.000000</td>\n",
       "      <td>0.000000</td>\n",
       "      <td>0.000000</td>\n",
       "      <td>21.274240</td>\n",
       "      <td>-157.791480</td>\n",
       "    </tr>\n",
       "    <tr>\n",
       "      <th>25%</th>\n",
       "      <td>6.300000e+05</td>\n",
       "      <td>3.000000</td>\n",
       "      <td>2.000000</td>\n",
       "      <td>1390.000000</td>\n",
       "      <td>1.000000</td>\n",
       "      <td>0.000000</td>\n",
       "      <td>40.000000</td>\n",
       "      <td>47.390145</td>\n",
       "      <td>-122.329325</td>\n",
       "    </tr>\n",
       "    <tr>\n",
       "      <th>50%</th>\n",
       "      <td>8.299950e+05</td>\n",
       "      <td>3.000000</td>\n",
       "      <td>2.500000</td>\n",
       "      <td>1860.000000</td>\n",
       "      <td>1.500000</td>\n",
       "      <td>380.000000</td>\n",
       "      <td>140.000000</td>\n",
       "      <td>47.541830</td>\n",
       "      <td>-122.233860</td>\n",
       "    </tr>\n",
       "    <tr>\n",
       "      <th>75%</th>\n",
       "      <td>1.199950e+06</td>\n",
       "      <td>4.000000</td>\n",
       "      <td>2.500000</td>\n",
       "      <td>2460.000000</td>\n",
       "      <td>2.000000</td>\n",
       "      <td>500.000000</td>\n",
       "      <td>300.000000</td>\n",
       "      <td>47.670530</td>\n",
       "      <td>-122.116360</td>\n",
       "    </tr>\n",
       "    <tr>\n",
       "      <th>max</th>\n",
       "      <td>2.276500e+06</td>\n",
       "      <td>11.000000</td>\n",
       "      <td>7.500000</td>\n",
       "      <td>8020.000000</td>\n",
       "      <td>4.000000</td>\n",
       "      <td>3580.000000</td>\n",
       "      <td>4370.000000</td>\n",
       "      <td>64.824070</td>\n",
       "      <td>-70.074340</td>\n",
       "    </tr>\n",
       "  </tbody>\n",
       "</table>\n",
       "</div>"
      ],
      "text/plain": [
       "              price      bedrooms     bathrooms   sqft_living        floors  \\\n",
       "count  2.812100e+04  28121.000000  28121.000000  28121.000000  28121.000000   \n",
       "mean   9.420307e+05      3.359873      2.248640   1988.831585      1.523754   \n",
       "std    4.347674e+05      0.952762      0.796831    798.991271      0.567293   \n",
       "min    2.736000e+04      0.000000      0.000000      3.000000      1.000000   \n",
       "25%    6.300000e+05      3.000000      2.000000   1390.000000      1.000000   \n",
       "50%    8.299950e+05      3.000000      2.500000   1860.000000      1.500000   \n",
       "75%    1.199950e+06      4.000000      2.500000   2460.000000      2.000000   \n",
       "max    2.276500e+06     11.000000      7.500000   8020.000000      4.000000   \n",
       "\n",
       "        sqft_garage    sqft_patio           lat          long  \n",
       "count  28121.000000  28121.000000  28121.000000  28121.000000  \n",
       "mean     314.703887    202.342947     47.314627   -121.296437  \n",
       "std      272.243119    226.843948      1.455630      5.797357  \n",
       "min        0.000000      0.000000     21.274240   -157.791480  \n",
       "25%        0.000000     40.000000     47.390145   -122.329325  \n",
       "50%      380.000000    140.000000     47.541830   -122.233860  \n",
       "75%      500.000000    300.000000     47.670530   -122.116360  \n",
       "max     3580.000000   4370.000000     64.824070    -70.074340  "
      ]
     },
     "execution_count": 73,
     "metadata": {},
     "output_type": "execute_result"
    }
   ],
   "source": [
    "# Getting some statistics for the DataFrame so I know averages, standard deviations, and quantiles\n",
    "\n",
    "kc.describe()"
   ]
  },
  {
   "cell_type": "markdown",
   "metadata": {},
   "source": [
    "Taking a look at some of the means of these columns, the homes from King's County in this DataFrame have 3 bedrooms\n",
    "and 2 bathrooms on average. Technically there are more, which is impossible for bedrooms, but homes do have \"half\n",
    "baths.\" Also, the maximum has 13 bedroms and 10.5 bathrooms! If you scroll over, there is also latitude and longitude which won't be as useful for my analyis."
   ]
  },
  {
   "cell_type": "code",
   "execution_count": 115,
   "metadata": {},
   "outputs": [
    {
     "data": {
      "text/plain": [
       "\"\\nwork it out to price per square foot or at least divide price so it's on the same scale\\n\""
      ]
     },
     "execution_count": 115,
     "metadata": {},
     "output_type": "execute_result"
    }
   ],
   "source": [
    "'''\n",
    "work it out to price per square foot or at least divide price so it's on the same scale\n",
    "'''"
   ]
  },
  {
   "cell_type": "markdown",
   "metadata": {},
   "source": [
    "### Building a Baseline Simple Linear Regression Model"
   ]
  },
  {
   "cell_type": "markdown",
   "metadata": {},
   "source": [
    "Building a baseline is important because it is what I will compare the model reiterations to. The goal will to get a better R-squared, so I know that the models are getting more and more accurate."
   ]
  },
  {
   "cell_type": "code",
   "execution_count": 74,
   "metadata": {},
   "outputs": [
    {
     "data": {
      "text/plain": [
       "price          1.000000\n",
       "bedrooms       0.316282\n",
       "bathrooms      0.433880\n",
       "sqft_living    0.564844\n",
       "floors         0.195117\n",
       "sqft_garage    0.238316\n",
       "sqft_patio     0.245878\n",
       "lat            0.086350\n",
       "long          -0.030871\n",
       "Name: price, dtype: float64"
      ]
     },
     "execution_count": 74,
     "metadata": {},
     "output_type": "execute_result"
    }
   ],
   "source": [
    "# Finding the most correlated column to price\n",
    "\n",
    "kc.corr()[\"price\"]"
   ]
  },
  {
   "cell_type": "code",
   "execution_count": 76,
   "metadata": {
    "scrolled": true
   },
   "outputs": [
    {
     "data": {
      "text/plain": [
       "<AxesSubplot:xlabel='sqft_living', ylabel='price'>"
      ]
     },
     "execution_count": 76,
     "metadata": {},
     "output_type": "execute_result"
    },
    {
     "data": {
      "image/png": "[encoded data removed]",
      "text/plain": [
       "<Figure size 400x300 with 1 Axes>"
      ]
     },
     "metadata": {},
     "output_type": "display_data"
    }
   ],
   "source": [
    "# Plotting a sample to show the most correlated vs. price\n",
    "\n",
    "kc.sample(2000, random_state=1).plot.scatter(x='sqft_living', y=\"price\", figsize=(4,3), fontsize=10, color='purple')\n",
    "## create fitted line sns.regplot"
   ]
  },
  {
   "cell_type": "code",
   "execution_count": 78,
   "metadata": {},
   "outputs": [
    {
     "data": {
      "text/plain": [
       "<AxesSubplot:xlabel='bathrooms', ylabel='price'>"
      ]
     },
     "execution_count": 78,
     "metadata": {},
     "output_type": "execute_result"
    },
    {
     "data": {
      "image/png": "[encoded data removed]",
      "text/plain": [
       "<Figure size 400x300 with 1 Axes>"
      ]
     },
     "metadata": {},
     "output_type": "display_data"
    }
   ],
   "source": [
    "kc.sample(2000, random_state=1).plot.scatter(x='bathrooms', y=\"price\", figsize=(4,3), fontsize=10, color='purple')"
   ]
  },
  {
   "cell_type": "markdown",
   "metadata": {},
   "source": [
    "**Setting up Variables for Regression**"
   ]
  },
  {
   "cell_type": "code",
   "execution_count": 79,
   "metadata": {},
   "outputs": [],
   "source": [
    "# Creating variables to perform regression analysis\n",
    "\n",
    "y = kc[\"price\"]\n",
    "X_baseline = kc[['sqft_living']]"
   ]
  },
  {
   "cell_type": "code",
   "execution_count": 80,
   "metadata": {},
   "outputs": [],
   "source": [
    "# Creating a simple linear regression\n",
    "\n",
    "baseline_model = sm.OLS(y, sm.add_constant(X_baseline))\n",
    "baseline_results = baseline_model.fit()"
   ]
  },
  {
   "cell_type": "code",
   "execution_count": 81,
   "metadata": {},
   "outputs": [
    {
     "name": "stdout",
     "output_type": "stream",
     "text": [
      "                            OLS Regression Results                            \n",
      "==============================================================================\n",
      "Dep. Variable:                  price   R-squared:                       0.319\n",
      "Model:                            OLS   Adj. R-squared:                  0.319\n",
      "Method:                 Least Squares   F-statistic:                 1.317e+04\n",
      "Date:                Thu, 09 Feb 2023   Prob (F-statistic):               0.00\n",
      "Time:                        20:35:50   Log-Likelihood:            -3.9958e+05\n",
      "No. Observations:               28121   AIC:                         7.992e+05\n",
      "Df Residuals:                   28119   BIC:                         7.992e+05\n",
      "Df Model:                           1                                         \n",
      "Covariance Type:            nonrobust                                         \n",
      "===============================================================================\n",
      "                  coef    std err          t      P>|t|      [0.025      0.975]\n",
      "-------------------------------------------------------------------------------\n",
      "const        3.307e+05   5739.310     57.629      0.000    3.19e+05    3.42e+05\n",
      "sqft_living   307.3575      2.678    114.781      0.000     302.109     312.606\n",
      "==============================================================================\n",
      "Omnibus:                     1479.297   Durbin-Watson:                   2.007\n",
      "Prob(Omnibus):                  0.000   Jarque-Bera (JB):             1868.930\n",
      "Skew:                           0.530   Prob(JB):                         0.00\n",
      "Kurtosis:                       3.688   Cond. No.                     5.75e+03\n",
      "==============================================================================\n",
      "\n",
      "Notes:\n",
      "[1] Standard Errors assume that the covariance matrix of the errors is correctly specified.\n",
      "[2] The condition number is large, 5.75e+03. This might indicate that there are\n",
      "strong multicollinearity or other numerical problems.\n"
     ]
    }
   ],
   "source": [
    "# Printing results of the model to evaluate model performance\n",
    "\n",
    "print(baseline_results.summary())"
   ]
  },
  {
   "cell_type": "markdown",
   "metadata": {},
   "source": [
    "Since *R-squared* is 0.370, I know that this model based solely on `sqft_living` impacting price is not doing a great job of explaining changes in price. That being said, I would like to at least get my R-squared to 0.700. "
   ]
  },
  {
   "cell_type": "code",
   "execution_count": 82,
   "metadata": {},
   "outputs": [
    {
     "data": {
      "text/plain": [
       "\"\\n\\nFrom Mark: talk about overfitting/underfitting/multicollinearity in the notebook\\n\\nif final model isn't ideal with metrics (0.55) be able to speak to it\\n\""
      ]
     },
     "execution_count": 82,
     "metadata": {},
     "output_type": "execute_result"
    }
   ],
   "source": [
    "'''\n",
    "\n",
    "From Mark: talk about overfitting/underfitting/multicollinearity in the notebook\n",
    "\n",
    "if final model isn't ideal with metrics (0.55) be able to speak to it\n",
    "'''"
   ]
  },
  {
   "cell_type": "code",
   "execution_count": null,
   "metadata": {},
   "outputs": [],
   "source": []
  },
  {
   "cell_type": "code",
   "execution_count": 83,
   "metadata": {},
   "outputs": [
    {
     "data": {
      "text/plain": [
       "279716.2268189993"
      ]
     },
     "execution_count": 83,
     "metadata": {},
     "output_type": "execute_result"
    }
   ],
   "source": [
    "# Finding mean absolute error to find the average error for this model and measure how effective it is\n",
    "\n",
    "from sklearn.metrics import mean_absolute_error\n",
    "\n",
    "baseline_mae = mean_absolute_error(y, baseline_results.predict(sm.add_constant(X_baseline)))\n",
    "baseline_mae"
   ]
  },
  {
   "cell_type": "markdown",
   "metadata": {},
   "source": [
    "### Label Encoding Categorical Columns"
   ]
  },
  {
   "cell_type": "code",
   "execution_count": 84,
   "metadata": {},
   "outputs": [],
   "source": [
    "labelencoder = LabelEncoder()"
   ]
  },
  {
   "cell_type": "code",
   "execution_count": 85,
   "metadata": {},
   "outputs": [],
   "source": [
    "condition_map = {\n",
    "    'Poor': 0,\n",
    "    'Fair': 1,\n",
    "    'Average': 2,\n",
    "    'Good': 3,\n",
    "    'Very Good': 4,\n",
    "}"
   ]
  },
  {
   "cell_type": "code",
   "execution_count": 86,
   "metadata": {},
   "outputs": [
    {
     "data": {
      "text/plain": [
       "id\n",
       "7399300360    3\n",
       "8910500230    2\n",
       "1180000275    2\n",
       "1604601802    2\n",
       "8562780790    2\n",
       "             ..\n",
       "7834800180    3\n",
       "194000695     2\n",
       "7960100080    2\n",
       "2781280080    2\n",
       "9557800100    2\n",
       "Name: condition, Length: 28121, dtype: int64"
      ]
     },
     "execution_count": 86,
     "metadata": {},
     "output_type": "execute_result"
    }
   ],
   "source": [
    "kc['condition'].map(condition_map)"
   ]
  },
  {
   "cell_type": "code",
   "execution_count": 87,
   "metadata": {},
   "outputs": [],
   "source": [
    "kc['condition'] = kc['condition'].map(condition_map)"
   ]
  },
  {
   "cell_type": "code",
   "execution_count": 88,
   "metadata": {},
   "outputs": [
    {
     "data": {
      "text/plain": [
       "id\n",
       "7399300360    3\n",
       "8910500230    2\n",
       "1180000275    2\n",
       "1604601802    2\n",
       "8562780790    2\n",
       "             ..\n",
       "7834800180    3\n",
       "194000695     2\n",
       "7960100080    2\n",
       "2781280080    2\n",
       "9557800100    2\n",
       "Name: condition, Length: 28121, dtype: int64"
      ]
     },
     "execution_count": 88,
     "metadata": {},
     "output_type": "execute_result"
    }
   ],
   "source": [
    "kc['condition']"
   ]
  },
  {
   "cell_type": "markdown",
   "metadata": {},
   "source": [
    "Write that I attempted to use labelencoder but I found that it wasn't in order so I just created a dictionary since there weren't that many values"
   ]
  },
  {
   "cell_type": "code",
   "execution_count": 89,
   "metadata": {},
   "outputs": [
    {
     "data": {
      "text/html": [
       "<div>\n",
       "<style scoped>\n",
       "    .dataframe tbody tr th:only-of-type {\n",
       "        vertical-align: middle;\n",
       "    }\n",
       "\n",
       "    .dataframe tbody tr th {\n",
       "        vertical-align: top;\n",
       "    }\n",
       "\n",
       "    .dataframe thead th {\n",
       "        text-align: right;\n",
       "    }\n",
       "</style>\n",
       "<table border=\"1\" class=\"dataframe\">\n",
       "  <thead>\n",
       "    <tr style=\"text-align: right;\">\n",
       "      <th></th>\n",
       "      <th>condition</th>\n",
       "      <th>condition_encoded</th>\n",
       "    </tr>\n",
       "    <tr>\n",
       "      <th>id</th>\n",
       "      <th></th>\n",
       "      <th></th>\n",
       "    </tr>\n",
       "  </thead>\n",
       "  <tbody>\n",
       "    <tr>\n",
       "      <th>7399300360</th>\n",
       "      <td>3</td>\n",
       "      <td>3</td>\n",
       "    </tr>\n",
       "    <tr>\n",
       "      <th>8910500230</th>\n",
       "      <td>2</td>\n",
       "      <td>2</td>\n",
       "    </tr>\n",
       "    <tr>\n",
       "      <th>1180000275</th>\n",
       "      <td>2</td>\n",
       "      <td>2</td>\n",
       "    </tr>\n",
       "    <tr>\n",
       "      <th>1604601802</th>\n",
       "      <td>2</td>\n",
       "      <td>2</td>\n",
       "    </tr>\n",
       "    <tr>\n",
       "      <th>8562780790</th>\n",
       "      <td>2</td>\n",
       "      <td>2</td>\n",
       "    </tr>\n",
       "    <tr>\n",
       "      <th>...</th>\n",
       "      <td>...</td>\n",
       "      <td>...</td>\n",
       "    </tr>\n",
       "    <tr>\n",
       "      <th>7834800180</th>\n",
       "      <td>3</td>\n",
       "      <td>3</td>\n",
       "    </tr>\n",
       "    <tr>\n",
       "      <th>194000695</th>\n",
       "      <td>2</td>\n",
       "      <td>2</td>\n",
       "    </tr>\n",
       "    <tr>\n",
       "      <th>7960100080</th>\n",
       "      <td>2</td>\n",
       "      <td>2</td>\n",
       "    </tr>\n",
       "    <tr>\n",
       "      <th>2781280080</th>\n",
       "      <td>2</td>\n",
       "      <td>2</td>\n",
       "    </tr>\n",
       "    <tr>\n",
       "      <th>9557800100</th>\n",
       "      <td>2</td>\n",
       "      <td>2</td>\n",
       "    </tr>\n",
       "  </tbody>\n",
       "</table>\n",
       "<p>28121 rows × 2 columns</p>\n",
       "</div>"
      ],
      "text/plain": [
       "            condition  condition_encoded\n",
       "id                                      \n",
       "7399300360          3                  3\n",
       "8910500230          2                  2\n",
       "1180000275          2                  2\n",
       "1604601802          2                  2\n",
       "8562780790          2                  2\n",
       "...               ...                ...\n",
       "7834800180          3                  3\n",
       "194000695           2                  2\n",
       "7960100080          2                  2\n",
       "2781280080          2                  2\n",
       "9557800100          2                  2\n",
       "\n",
       "[28121 rows x 2 columns]"
      ]
     },
     "execution_count": 89,
     "metadata": {},
     "output_type": "execute_result"
    }
   ],
   "source": [
    "# Assigning numerical values and storing in another column\n",
    "\n",
    "kc['condition_encoded'] = labelencoder.fit_transform(kc['condition'])\n",
    "kc[['condition', 'condition_encoded']]"
   ]
  },
  {
   "cell_type": "code",
   "execution_count": 90,
   "metadata": {},
   "outputs": [
    {
     "data": {
      "text/plain": [
       "2    17135\n",
       "3     7654\n",
       "4     3054\n",
       "1      218\n",
       "0       60\n",
       "Name: condition_encoded, dtype: int64"
      ]
     },
     "execution_count": 90,
     "metadata": {},
     "output_type": "execute_result"
    }
   ],
   "source": [
    "kc['condition_encoded'].value_counts()"
   ]
  },
  {
   "cell_type": "code",
   "execution_count": 91,
   "metadata": {},
   "outputs": [
    {
     "data": {
      "text/plain": [
       "2    17135\n",
       "3     7654\n",
       "4     3054\n",
       "1      218\n",
       "0       60\n",
       "Name: condition, dtype: int64"
      ]
     },
     "execution_count": 91,
     "metadata": {},
     "output_type": "execute_result"
    }
   ],
   "source": [
    "kc['condition'].value_counts()"
   ]
  },
  {
   "cell_type": "code",
   "execution_count": 92,
   "metadata": {},
   "outputs": [
    {
     "data": {
      "text/html": [
       "<div>\n",
       "<style scoped>\n",
       "    .dataframe tbody tr th:only-of-type {\n",
       "        vertical-align: middle;\n",
       "    }\n",
       "\n",
       "    .dataframe tbody tr th {\n",
       "        vertical-align: top;\n",
       "    }\n",
       "\n",
       "    .dataframe thead th {\n",
       "        text-align: right;\n",
       "    }\n",
       "</style>\n",
       "<table border=\"1\" class=\"dataframe\">\n",
       "  <thead>\n",
       "    <tr style=\"text-align: right;\">\n",
       "      <th></th>\n",
       "      <th>grade</th>\n",
       "      <th>grade_encoded</th>\n",
       "    </tr>\n",
       "    <tr>\n",
       "      <th>id</th>\n",
       "      <th></th>\n",
       "      <th></th>\n",
       "    </tr>\n",
       "  </thead>\n",
       "  <tbody>\n",
       "    <tr>\n",
       "      <th>7399300360</th>\n",
       "      <td>7 Average</td>\n",
       "      <td>9</td>\n",
       "    </tr>\n",
       "    <tr>\n",
       "      <th>8910500230</th>\n",
       "      <td>7 Average</td>\n",
       "      <td>9</td>\n",
       "    </tr>\n",
       "    <tr>\n",
       "      <th>1180000275</th>\n",
       "      <td>7 Average</td>\n",
       "      <td>9</td>\n",
       "    </tr>\n",
       "    <tr>\n",
       "      <th>1604601802</th>\n",
       "      <td>9 Better</td>\n",
       "      <td>11</td>\n",
       "    </tr>\n",
       "    <tr>\n",
       "      <th>8562780790</th>\n",
       "      <td>7 Average</td>\n",
       "      <td>9</td>\n",
       "    </tr>\n",
       "    <tr>\n",
       "      <th>...</th>\n",
       "      <td>...</td>\n",
       "      <td>...</td>\n",
       "    </tr>\n",
       "    <tr>\n",
       "      <th>7834800180</th>\n",
       "      <td>8 Good</td>\n",
       "      <td>10</td>\n",
       "    </tr>\n",
       "    <tr>\n",
       "      <th>194000695</th>\n",
       "      <td>7 Average</td>\n",
       "      <td>9</td>\n",
       "    </tr>\n",
       "    <tr>\n",
       "      <th>7960100080</th>\n",
       "      <td>7 Average</td>\n",
       "      <td>9</td>\n",
       "    </tr>\n",
       "    <tr>\n",
       "      <th>2781280080</th>\n",
       "      <td>8 Good</td>\n",
       "      <td>10</td>\n",
       "    </tr>\n",
       "    <tr>\n",
       "      <th>9557800100</th>\n",
       "      <td>7 Average</td>\n",
       "      <td>9</td>\n",
       "    </tr>\n",
       "  </tbody>\n",
       "</table>\n",
       "<p>28121 rows × 2 columns</p>\n",
       "</div>"
      ],
      "text/plain": [
       "                grade  grade_encoded\n",
       "id                                  \n",
       "7399300360  7 Average              9\n",
       "8910500230  7 Average              9\n",
       "1180000275  7 Average              9\n",
       "1604601802   9 Better             11\n",
       "8562780790  7 Average              9\n",
       "...               ...            ...\n",
       "7834800180     8 Good             10\n",
       "194000695   7 Average              9\n",
       "7960100080  7 Average              9\n",
       "2781280080     8 Good             10\n",
       "9557800100  7 Average              9\n",
       "\n",
       "[28121 rows x 2 columns]"
      ]
     },
     "execution_count": 92,
     "metadata": {},
     "output_type": "execute_result"
    }
   ],
   "source": [
    "kc['grade_encoded'] = labelencoder.fit_transform(kc['grade'])\n",
    "kc[['grade', 'grade_encoded']]"
   ]
  },
  {
   "cell_type": "code",
   "execution_count": 93,
   "metadata": {},
   "outputs": [
    {
     "data": {
      "text/plain": [
       "9     11613\n",
       "10     9164\n",
       "11     3224\n",
       "8      2822\n",
       "0       748\n",
       "7       380\n",
       "1       104\n",
       "6        45\n",
       "2        10\n",
       "5         9\n",
       "4         1\n",
       "3         1\n",
       "Name: grade_encoded, dtype: int64"
      ]
     },
     "execution_count": 93,
     "metadata": {},
     "output_type": "execute_result"
    }
   ],
   "source": [
    "kc['grade_encoded'].value_counts()"
   ]
  },
  {
   "cell_type": "code",
   "execution_count": 94,
   "metadata": {},
   "outputs": [
    {
     "data": {
      "text/plain": [
       "7 Average        11613\n",
       "8 Good            9164\n",
       "9 Better          3224\n",
       "6 Low Average     2822\n",
       "10 Very Good       748\n",
       "5 Fair             380\n",
       "11 Excellent       104\n",
       "4 Low               45\n",
       "12 Luxury           10\n",
       "3 Poor               9\n",
       "2 Substandard        1\n",
       "13 Mansion           1\n",
       "Name: grade, dtype: int64"
      ]
     },
     "execution_count": 94,
     "metadata": {},
     "output_type": "execute_result"
    }
   ],
   "source": [
    "kc['grade'].value_counts()"
   ]
  },
  {
   "cell_type": "code",
   "execution_count": 95,
   "metadata": {},
   "outputs": [],
   "source": [
    "y = kc[\"price\"]\n",
    "X_secondmodel = kc[['sqft_living', 'condition']]"
   ]
  },
  {
   "cell_type": "code",
   "execution_count": 96,
   "metadata": {},
   "outputs": [],
   "source": [
    "second_model = sm.OLS(y, sm.add_constant(X_secondmodel))\n",
    "second_results = second_model.fit()"
   ]
  },
  {
   "cell_type": "code",
   "execution_count": 97,
   "metadata": {},
   "outputs": [
    {
     "data": {
      "text/html": [
       "<table class=\"simpletable\">\n",
       "<caption>OLS Regression Results</caption>\n",
       "<tr>\n",
       "  <th>Dep. Variable:</th>          <td>price</td>      <th>  R-squared:         </th>  <td>   0.323</td>  \n",
       "</tr>\n",
       "<tr>\n",
       "  <th>Model:</th>                   <td>OLS</td>       <th>  Adj. R-squared:    </th>  <td>   0.323</td>  \n",
       "</tr>\n",
       "<tr>\n",
       "  <th>Method:</th>             <td>Least Squares</td>  <th>  F-statistic:       </th>  <td>   6699.</td>  \n",
       "</tr>\n",
       "<tr>\n",
       "  <th>Date:</th>             <td>Thu, 09 Feb 2023</td> <th>  Prob (F-statistic):</th>   <td>  0.00</td>   \n",
       "</tr>\n",
       "<tr>\n",
       "  <th>Time:</th>                 <td>20:37:05</td>     <th>  Log-Likelihood:    </th> <td>-3.9950e+05</td>\n",
       "</tr>\n",
       "<tr>\n",
       "  <th>No. Observations:</th>      <td> 28121</td>      <th>  AIC:               </th>  <td>7.990e+05</td> \n",
       "</tr>\n",
       "<tr>\n",
       "  <th>Df Residuals:</th>          <td> 28118</td>      <th>  BIC:               </th>  <td>7.990e+05</td> \n",
       "</tr>\n",
       "<tr>\n",
       "  <th>Df Model:</th>              <td>     2</td>      <th>                     </th>      <td> </td>     \n",
       "</tr>\n",
       "<tr>\n",
       "  <th>Covariance Type:</th>      <td>nonrobust</td>    <th>                     </th>      <td> </td>     \n",
       "</tr>\n",
       "</table>\n",
       "<table class=\"simpletable\">\n",
       "<tr>\n",
       "       <td></td>          <th>coef</th>     <th>std err</th>      <th>t</th>      <th>P>|t|</th>  <th>[0.025</th>    <th>0.975]</th>  \n",
       "</tr>\n",
       "<tr>\n",
       "  <th>const</th>       <td> 2.348e+05</td> <td> 9642.270</td> <td>   24.347</td> <td> 0.000</td> <td> 2.16e+05</td> <td> 2.54e+05</td>\n",
       "</tr>\n",
       "<tr>\n",
       "  <th>sqft_living</th> <td>  308.8426</td> <td>    2.673</td> <td>  115.530</td> <td> 0.000</td> <td>  303.603</td> <td>  314.082</td>\n",
       "</tr>\n",
       "<tr>\n",
       "  <th>condition</th>   <td> 3.755e+04</td> <td> 3035.800</td> <td>   12.370</td> <td> 0.000</td> <td> 3.16e+04</td> <td> 4.35e+04</td>\n",
       "</tr>\n",
       "</table>\n",
       "<table class=\"simpletable\">\n",
       "<tr>\n",
       "  <th>Omnibus:</th>       <td>1450.944</td> <th>  Durbin-Watson:     </th> <td>   2.005</td>\n",
       "</tr>\n",
       "<tr>\n",
       "  <th>Prob(Omnibus):</th>  <td> 0.000</td>  <th>  Jarque-Bera (JB):  </th> <td>1834.935</td>\n",
       "</tr>\n",
       "<tr>\n",
       "  <th>Skew:</th>           <td> 0.522</td>  <th>  Prob(JB):          </th> <td>    0.00</td>\n",
       "</tr>\n",
       "<tr>\n",
       "  <th>Kurtosis:</th>       <td> 3.690</td>  <th>  Cond. No.          </th> <td>1.00e+04</td>\n",
       "</tr>\n",
       "</table><br/><br/>Notes:<br/>[1] Standard Errors assume that the covariance matrix of the errors is correctly specified.<br/>[2] The condition number is large,  1e+04. This might indicate that there are<br/>strong multicollinearity or other numerical problems."
      ],
      "text/plain": [
       "<class 'statsmodels.iolib.summary.Summary'>\n",
       "\"\"\"\n",
       "                            OLS Regression Results                            \n",
       "==============================================================================\n",
       "Dep. Variable:                  price   R-squared:                       0.323\n",
       "Model:                            OLS   Adj. R-squared:                  0.323\n",
       "Method:                 Least Squares   F-statistic:                     6699.\n",
       "Date:                Thu, 09 Feb 2023   Prob (F-statistic):               0.00\n",
       "Time:                        20:37:05   Log-Likelihood:            -3.9950e+05\n",
       "No. Observations:               28121   AIC:                         7.990e+05\n",
       "Df Residuals:                   28118   BIC:                         7.990e+05\n",
       "Df Model:                           2                                         \n",
       "Covariance Type:            nonrobust                                         \n",
       "===============================================================================\n",
       "                  coef    std err          t      P>|t|      [0.025      0.975]\n",
       "-------------------------------------------------------------------------------\n",
       "const        2.348e+05   9642.270     24.347      0.000    2.16e+05    2.54e+05\n",
       "sqft_living   308.8426      2.673    115.530      0.000     303.603     314.082\n",
       "condition    3.755e+04   3035.800     12.370      0.000    3.16e+04    4.35e+04\n",
       "==============================================================================\n",
       "Omnibus:                     1450.944   Durbin-Watson:                   2.005\n",
       "Prob(Omnibus):                  0.000   Jarque-Bera (JB):             1834.935\n",
       "Skew:                           0.522   Prob(JB):                         0.00\n",
       "Kurtosis:                       3.690   Cond. No.                     1.00e+04\n",
       "==============================================================================\n",
       "\n",
       "Notes:\n",
       "[1] Standard Errors assume that the covariance matrix of the errors is correctly specified.\n",
       "[2] The condition number is large,  1e+04. This might indicate that there are\n",
       "strong multicollinearity or other numerical problems.\n",
       "\"\"\""
      ]
     },
     "execution_count": 97,
     "metadata": {},
     "output_type": "execute_result"
    }
   ],
   "source": [
    "second_results.summary()"
   ]
  },
  {
   "cell_type": "markdown",
   "metadata": {},
   "source": [
    "This didn't seem to increase my R-squared by much, so I'm also going to include the number of bathrooms in my model."
   ]
  },
  {
   "cell_type": "code",
   "execution_count": 101,
   "metadata": {},
   "outputs": [],
   "source": [
    "y=kc[\"price\"]\n",
    "X_thirdmodel = kc[['sqft_living', 'condition_encoded', 'grade_encoded', 'bathrooms']]"
   ]
  },
  {
   "cell_type": "code",
   "execution_count": 102,
   "metadata": {},
   "outputs": [],
   "source": [
    "thirdmodel = sm.OLS(y, sm.add_constant(X_thirdmodel))\n",
    "third_results = thirdmodel.fit()"
   ]
  },
  {
   "cell_type": "code",
   "execution_count": 103,
   "metadata": {},
   "outputs": [
    {
     "data": {
      "text/html": [
       "<table class=\"simpletable\">\n",
       "<caption>OLS Regression Results</caption>\n",
       "<tr>\n",
       "  <th>Dep. Variable:</th>          <td>price</td>      <th>  R-squared:         </th>  <td>   0.325</td>  \n",
       "</tr>\n",
       "<tr>\n",
       "  <th>Model:</th>                   <td>OLS</td>       <th>  Adj. R-squared:    </th>  <td>   0.325</td>  \n",
       "</tr>\n",
       "<tr>\n",
       "  <th>Method:</th>             <td>Least Squares</td>  <th>  F-statistic:       </th>  <td>   3379.</td>  \n",
       "</tr>\n",
       "<tr>\n",
       "  <th>Date:</th>             <td>Thu, 09 Feb 2023</td> <th>  Prob (F-statistic):</th>   <td>  0.00</td>   \n",
       "</tr>\n",
       "<tr>\n",
       "  <th>Time:</th>                 <td>20:37:48</td>     <th>  Log-Likelihood:    </th> <td>-3.9947e+05</td>\n",
       "</tr>\n",
       "<tr>\n",
       "  <th>No. Observations:</th>      <td> 28121</td>      <th>  AIC:               </th>  <td>7.989e+05</td> \n",
       "</tr>\n",
       "<tr>\n",
       "  <th>Df Residuals:</th>          <td> 28116</td>      <th>  BIC:               </th>  <td>7.990e+05</td> \n",
       "</tr>\n",
       "<tr>\n",
       "  <th>Df Model:</th>              <td>     4</td>      <th>                     </th>      <td> </td>     \n",
       "</tr>\n",
       "<tr>\n",
       "  <th>Covariance Type:</th>      <td>nonrobust</td>    <th>                     </th>      <td> </td>     \n",
       "</tr>\n",
       "</table>\n",
       "<table class=\"simpletable\">\n",
       "<tr>\n",
       "          <td></td>             <th>coef</th>     <th>std err</th>      <th>t</th>      <th>P>|t|</th>  <th>[0.025</th>    <th>0.975]</th>  \n",
       "</tr>\n",
       "<tr>\n",
       "  <th>const</th>             <td> 2.503e+05</td> <td> 1.48e+04</td> <td>   16.909</td> <td> 0.000</td> <td> 2.21e+05</td> <td> 2.79e+05</td>\n",
       "</tr>\n",
       "<tr>\n",
       "  <th>sqft_living</th>       <td>  284.4757</td> <td>    3.892</td> <td>   73.085</td> <td> 0.000</td> <td>  276.846</td> <td>  292.105</td>\n",
       "</tr>\n",
       "<tr>\n",
       "  <th>condition_encoded</th> <td> 3.801e+04</td> <td> 3033.920</td> <td>   12.529</td> <td> 0.000</td> <td> 3.21e+04</td> <td>  4.4e+04</td>\n",
       "</tr>\n",
       "<tr>\n",
       "  <th>grade_encoded</th>     <td>-4699.1529</td> <td> 1178.778</td> <td>   -3.986</td> <td> 0.000</td> <td>-7009.614</td> <td>-2388.691</td>\n",
       "</tr>\n",
       "<tr>\n",
       "  <th>bathrooms</th>         <td> 3.325e+04</td> <td> 3911.350</td> <td>    8.501</td> <td> 0.000</td> <td> 2.56e+04</td> <td> 4.09e+04</td>\n",
       "</tr>\n",
       "</table>\n",
       "<table class=\"simpletable\">\n",
       "<tr>\n",
       "  <th>Omnibus:</th>       <td>1485.220</td> <th>  Durbin-Watson:     </th> <td>   2.003</td>\n",
       "</tr>\n",
       "<tr>\n",
       "  <th>Prob(Omnibus):</th>  <td> 0.000</td>  <th>  Jarque-Bera (JB):  </th> <td>1890.318</td>\n",
       "</tr>\n",
       "<tr>\n",
       "  <th>Skew:</th>           <td> 0.528</td>  <th>  Prob(JB):          </th> <td>    0.00</td>\n",
       "</tr>\n",
       "<tr>\n",
       "  <th>Kurtosis:</th>       <td> 3.706</td>  <th>  Cond. No.          </th> <td>1.50e+04</td>\n",
       "</tr>\n",
       "</table><br/><br/>Notes:<br/>[1] Standard Errors assume that the covariance matrix of the errors is correctly specified.<br/>[2] The condition number is large, 1.5e+04. This might indicate that there are<br/>strong multicollinearity or other numerical problems."
      ],
      "text/plain": [
       "<class 'statsmodels.iolib.summary.Summary'>\n",
       "\"\"\"\n",
       "                            OLS Regression Results                            \n",
       "==============================================================================\n",
       "Dep. Variable:                  price   R-squared:                       0.325\n",
       "Model:                            OLS   Adj. R-squared:                  0.325\n",
       "Method:                 Least Squares   F-statistic:                     3379.\n",
       "Date:                Thu, 09 Feb 2023   Prob (F-statistic):               0.00\n",
       "Time:                        20:37:48   Log-Likelihood:            -3.9947e+05\n",
       "No. Observations:               28121   AIC:                         7.989e+05\n",
       "Df Residuals:                   28116   BIC:                         7.990e+05\n",
       "Df Model:                           4                                         \n",
       "Covariance Type:            nonrobust                                         \n",
       "=====================================================================================\n",
       "                        coef    std err          t      P>|t|      [0.025      0.975]\n",
       "-------------------------------------------------------------------------------------\n",
       "const              2.503e+05   1.48e+04     16.909      0.000    2.21e+05    2.79e+05\n",
       "sqft_living         284.4757      3.892     73.085      0.000     276.846     292.105\n",
       "condition_encoded  3.801e+04   3033.920     12.529      0.000    3.21e+04     4.4e+04\n",
       "grade_encoded     -4699.1529   1178.778     -3.986      0.000   -7009.614   -2388.691\n",
       "bathrooms          3.325e+04   3911.350      8.501      0.000    2.56e+04    4.09e+04\n",
       "==============================================================================\n",
       "Omnibus:                     1485.220   Durbin-Watson:                   2.003\n",
       "Prob(Omnibus):                  0.000   Jarque-Bera (JB):             1890.318\n",
       "Skew:                           0.528   Prob(JB):                         0.00\n",
       "Kurtosis:                       3.706   Cond. No.                     1.50e+04\n",
       "==============================================================================\n",
       "\n",
       "Notes:\n",
       "[1] Standard Errors assume that the covariance matrix of the errors is correctly specified.\n",
       "[2] The condition number is large, 1.5e+04. This might indicate that there are\n",
       "strong multicollinearity or other numerical problems.\n",
       "\"\"\""
      ]
     },
     "execution_count": 103,
     "metadata": {},
     "output_type": "execute_result"
    }
   ],
   "source": [
    "third_results.summary()"
   ]
  },
  {
   "cell_type": "code",
   "execution_count": 106,
   "metadata": {},
   "outputs": [],
   "source": [
    "y=kc[\"price\"]\n",
    "X_fourthmodel = kc[['sqft_living', 'condition_encoded', 'bathrooms', 'bedrooms', 'grade_encoded']]\n",
    "fourthmodel = sm.OLS(y, sm.add_constant(X_fourthmodel))\n",
    "fourth_results = fourthmodel.fit()"
   ]
  },
  {
   "cell_type": "code",
   "execution_count": 107,
   "metadata": {},
   "outputs": [
    {
     "data": {
      "text/html": [
       "<table class=\"simpletable\">\n",
       "<caption>OLS Regression Results</caption>\n",
       "<tr>\n",
       "  <th>Dep. Variable:</th>          <td>price</td>      <th>  R-squared:         </th>  <td>   0.330</td>  \n",
       "</tr>\n",
       "<tr>\n",
       "  <th>Model:</th>                   <td>OLS</td>       <th>  Adj. R-squared:    </th>  <td>   0.330</td>  \n",
       "</tr>\n",
       "<tr>\n",
       "  <th>Method:</th>             <td>Least Squares</td>  <th>  F-statistic:       </th>  <td>   2776.</td>  \n",
       "</tr>\n",
       "<tr>\n",
       "  <th>Date:</th>             <td>Thu, 09 Feb 2023</td> <th>  Prob (F-statistic):</th>   <td>  0.00</td>   \n",
       "</tr>\n",
       "<tr>\n",
       "  <th>Time:</th>                 <td>20:38:15</td>     <th>  Log-Likelihood:    </th> <td>-3.9934e+05</td>\n",
       "</tr>\n",
       "<tr>\n",
       "  <th>No. Observations:</th>      <td> 28121</td>      <th>  AIC:               </th>  <td>7.987e+05</td> \n",
       "</tr>\n",
       "<tr>\n",
       "  <th>Df Residuals:</th>          <td> 28115</td>      <th>  BIC:               </th>  <td>7.987e+05</td> \n",
       "</tr>\n",
       "<tr>\n",
       "  <th>Df Model:</th>              <td>     5</td>      <th>                     </th>      <td> </td>     \n",
       "</tr>\n",
       "<tr>\n",
       "  <th>Covariance Type:</th>      <td>nonrobust</td>    <th>                     </th>      <td> </td>     \n",
       "</tr>\n",
       "</table>\n",
       "<table class=\"simpletable\">\n",
       "<tr>\n",
       "          <td></td>             <th>coef</th>     <th>std err</th>      <th>t</th>      <th>P>|t|</th>  <th>[0.025</th>    <th>0.975]</th>  \n",
       "</tr>\n",
       "<tr>\n",
       "  <th>const</th>             <td> 3.006e+05</td> <td> 1.51e+04</td> <td>   19.929</td> <td> 0.000</td> <td> 2.71e+05</td> <td>  3.3e+05</td>\n",
       "</tr>\n",
       "<tr>\n",
       "  <th>sqft_living</th>       <td>  313.4827</td> <td>    4.295</td> <td>   72.982</td> <td> 0.000</td> <td>  305.064</td> <td>  321.902</td>\n",
       "</tr>\n",
       "<tr>\n",
       "  <th>condition_encoded</th> <td> 4.318e+04</td> <td> 3038.809</td> <td>   14.211</td> <td> 0.000</td> <td> 3.72e+04</td> <td> 4.91e+04</td>\n",
       "</tr>\n",
       "<tr>\n",
       "  <th>bathrooms</th>         <td> 4.342e+04</td> <td> 3948.258</td> <td>   10.998</td> <td> 0.000</td> <td> 3.57e+04</td> <td> 5.12e+04</td>\n",
       "</tr>\n",
       "<tr>\n",
       "  <th>bedrooms</th>          <td>-4.677e+04</td> <td> 2986.293</td> <td>  -15.663</td> <td> 0.000</td> <td>-5.26e+04</td> <td>-4.09e+04</td>\n",
       "</tr>\n",
       "<tr>\n",
       "  <th>grade_encoded</th>     <td>-3228.2473</td> <td> 1177.440</td> <td>   -2.742</td> <td> 0.006</td> <td>-5536.087</td> <td> -920.408</td>\n",
       "</tr>\n",
       "</table>\n",
       "<table class=\"simpletable\">\n",
       "<tr>\n",
       "  <th>Omnibus:</th>       <td>1532.293</td> <th>  Durbin-Watson:     </th> <td>   2.004</td>\n",
       "</tr>\n",
       "<tr>\n",
       "  <th>Prob(Omnibus):</th>  <td> 0.000</td>  <th>  Jarque-Bera (JB):  </th> <td>1995.970</td>\n",
       "</tr>\n",
       "<tr>\n",
       "  <th>Skew:</th>           <td> 0.530</td>  <th>  Prob(JB):          </th> <td>    0.00</td>\n",
       "</tr>\n",
       "<tr>\n",
       "  <th>Kurtosis:</th>       <td> 3.762</td>  <th>  Cond. No.          </th> <td>1.54e+04</td>\n",
       "</tr>\n",
       "</table><br/><br/>Notes:<br/>[1] Standard Errors assume that the covariance matrix of the errors is correctly specified.<br/>[2] The condition number is large, 1.54e+04. This might indicate that there are<br/>strong multicollinearity or other numerical problems."
      ],
      "text/plain": [
       "<class 'statsmodels.iolib.summary.Summary'>\n",
       "\"\"\"\n",
       "                            OLS Regression Results                            \n",
       "==============================================================================\n",
       "Dep. Variable:                  price   R-squared:                       0.330\n",
       "Model:                            OLS   Adj. R-squared:                  0.330\n",
       "Method:                 Least Squares   F-statistic:                     2776.\n",
       "Date:                Thu, 09 Feb 2023   Prob (F-statistic):               0.00\n",
       "Time:                        20:38:15   Log-Likelihood:            -3.9934e+05\n",
       "No. Observations:               28121   AIC:                         7.987e+05\n",
       "Df Residuals:                   28115   BIC:                         7.987e+05\n",
       "Df Model:                           5                                         \n",
       "Covariance Type:            nonrobust                                         \n",
       "=====================================================================================\n",
       "                        coef    std err          t      P>|t|      [0.025      0.975]\n",
       "-------------------------------------------------------------------------------------\n",
       "const              3.006e+05   1.51e+04     19.929      0.000    2.71e+05     3.3e+05\n",
       "sqft_living         313.4827      4.295     72.982      0.000     305.064     321.902\n",
       "condition_encoded  4.318e+04   3038.809     14.211      0.000    3.72e+04    4.91e+04\n",
       "bathrooms          4.342e+04   3948.258     10.998      0.000    3.57e+04    5.12e+04\n",
       "bedrooms          -4.677e+04   2986.293    -15.663      0.000   -5.26e+04   -4.09e+04\n",
       "grade_encoded     -3228.2473   1177.440     -2.742      0.006   -5536.087    -920.408\n",
       "==============================================================================\n",
       "Omnibus:                     1532.293   Durbin-Watson:                   2.004\n",
       "Prob(Omnibus):                  0.000   Jarque-Bera (JB):             1995.970\n",
       "Skew:                           0.530   Prob(JB):                         0.00\n",
       "Kurtosis:                       3.762   Cond. No.                     1.54e+04\n",
       "==============================================================================\n",
       "\n",
       "Notes:\n",
       "[1] Standard Errors assume that the covariance matrix of the errors is correctly specified.\n",
       "[2] The condition number is large, 1.54e+04. This might indicate that there are\n",
       "strong multicollinearity or other numerical problems.\n",
       "\"\"\""
      ]
     },
     "execution_count": 107,
     "metadata": {},
     "output_type": "execute_result"
    }
   ],
   "source": [
    "fourth_results.summary()"
   ]
  },
  {
   "cell_type": "markdown",
   "metadata": {},
   "source": [
    "#### Preparing a Categorical Feature for Multiple Regression Modeling"
   ]
  },
  {
   "cell_type": "code",
   "execution_count": 81,
   "metadata": {},
   "outputs": [],
   "source": [
    "categorical_features = df.select_dtypes(\"object\").columns"
   ]
  },
  {
   "cell_type": "code",
   "execution_count": 82,
   "metadata": {},
   "outputs": [
    {
     "name": "stdout",
     "output_type": "stream",
     "text": [
      "Index(['date', 'waterfront', 'greenbelt', 'nuisance', 'view', 'condition',\n",
      "       'grade', 'heat_source', 'sewer_system', 'address'],\n",
      "      dtype='object')\n"
     ]
    }
   ],
   "source": [
    "print(categorical_features)"
   ]
  },
  {
   "cell_type": "code",
   "execution_count": 83,
   "metadata": {},
   "outputs": [
    {
     "data": {
      "text/plain": [
       "Gas                  20583\n",
       "Electricity           6465\n",
       "Oil                   2899\n",
       "Gas/Solar               93\n",
       "Electricity/Solar       59\n",
       "Other                   20\n",
       "Oil/Solar                4\n",
       "Name: heat_source, dtype: int64"
      ]
     },
     "execution_count": 83,
     "metadata": {},
     "output_type": "execute_result"
    }
   ],
   "source": [
    "df['heat_source'].value_counts()"
   ]
  },
  {
   "cell_type": "code",
   "execution_count": 84,
   "metadata": {},
   "outputs": [],
   "source": [
    "kc_catsubset = kc[['waterfront', 'heat_source', 'condition', 'sewer_system']].copy()"
   ]
  },
  {
   "cell_type": "code",
   "execution_count": 86,
   "metadata": {},
   "outputs": [
    {
     "data": {
      "text/plain": [
       "'\\nlog transform can be used when there is a lot of skew, run a model before and after log transforming to see the \\ndifference\\n\\nto avoid data leakage want to do train test split before any transforms\\n'"
      ]
     },
     "execution_count": 86,
     "metadata": {},
     "output_type": "execute_result"
    }
   ],
   "source": [
    "'''\n",
    "log transform can be used when there is a lot of skew, run a model before and after log transforming to see the \n",
    "difference\n",
    "\n",
    "to avoid data leakage want to do train test split before any transforms\n",
    "'''"
   ]
  },
  {
   "cell_type": "code",
   "execution_count": null,
   "metadata": {},
   "outputs": [],
   "source": []
  },
  {
   "cell_type": "code",
   "execution_count": null,
   "metadata": {},
   "outputs": [],
   "source": []
  }
 ],
 "metadata": {
  "kernelspec": {
   "display_name": "Python 3 (ipykernel)",
   "language": "python",
   "name": "python3"
  },
  "language_info": {
   "codemirror_mode": {
    "name": "ipython",
    "version": 3
   },
   "file_extension": ".py",
   "mimetype": "text/x-python",
   "name": "python",
   "nbconvert_exporter": "python",
   "pygments_lexer": "ipython3",
   "version": "3.8.5"
  }
 },
 "nbformat": 4,
 "nbformat_minor": 2
}
